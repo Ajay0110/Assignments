{
  "nbformat": 4,
  "nbformat_minor": 0,
  "metadata": {
    "colab": {
      "provenance": [],
      "collapsed_sections": [],
      "authorship_tag": "ABX9TyO2trkouly+1CZY0giTax+a",
      "include_colab_link": true
    },
    "kernelspec": {
      "name": "python3",
      "display_name": "Python 3"
    },
    "language_info": {
      "name": "python"
    }
  },
  "cells": [
    {
      "cell_type": "markdown",
      "metadata": {
        "id": "view-in-github",
        "colab_type": "text"
      },
      "source": [
        "<a href=\"https://colab.research.google.com/github/Ajay0110/Assignments/blob/main/Programming_Assignment_9.ipynb\" target=\"_parent\"><img src=\"https://colab.research.google.com/assets/colab-badge.svg\" alt=\"Open In Colab\"/></a>"
      ]
    },
    {
      "cell_type": "markdown",
      "source": [
        "1. Write a Python program to check if the given number is a Disarium Number?"
      ],
      "metadata": {
        "id": "KosGBAOLLH4b"
      }
    },
    {
      "cell_type": "code",
      "execution_count": 1,
      "metadata": {
        "id": "UEQ90-LJLEDK"
      },
      "outputs": [],
      "source": [
        "import logging\n",
        "logging.basicConfig(filename = \"test.log\", level = logging.INFO, format = '%(asctime)s %(levelname)s %(message)s')\n",
        "def disarium():\n",
        "  logging.info(\"Initiating program by taking input from the user\")\n",
        "  n = input(\"Enter a number: \")\n",
        "  p = 1\n",
        "  sum = 0\n",
        "  logging.info(\"Required variables initialized\")\n",
        "  try:\n",
        "    for i in n:\n",
        "      sum = sum + (int(i) ** p)\n",
        "      p = p + 1\n",
        "    if sum == int(n):\n",
        "      print(f\"{n} is a disarium number\")\n",
        "      logging.info(\"Execution Successful\")\n",
        "    else:\n",
        "      print(f\"{n} is not a disarium number\")\n",
        "      logging.info(\"Execution Successful\")\n",
        "  except Exception as e:\n",
        "    logging.error(\"An exception has occurred\")\n",
        "    logging.exception(\"The exception is \"+str(e))\n",
        "    print(\"Enter a numerical character\")\n",
        "  print(\"Program completed\")"
      ]
    },
    {
      "cell_type": "code",
      "source": [
        "disarium()"
      ],
      "metadata": {
        "colab": {
          "base_uri": "https://localhost:8080/"
        },
        "id": "ifrBFNszP8si",
        "outputId": "35f10591-fd4b-46fd-c77f-3aa30978910e"
      },
      "execution_count": 2,
      "outputs": [
        {
          "output_type": "stream",
          "name": "stdout",
          "text": [
            "Enter a number: 176\n",
            "176 is not a disarium number\n",
            "Program completed\n"
          ]
        }
      ]
    },
    {
      "cell_type": "code",
      "source": [
        "disarium()"
      ],
      "metadata": {
        "colab": {
          "base_uri": "https://localhost:8080/"
        },
        "id": "Lw6hVP6cP8pz",
        "outputId": "466ba8a9-82f7-4cf9-8838-89fd6b59e4de"
      },
      "execution_count": 3,
      "outputs": [
        {
          "output_type": "stream",
          "name": "stdout",
          "text": [
            "Enter a number: 175\n",
            "175 is a disarium number\n",
            "Program completed\n"
          ]
        }
      ]
    },
    {
      "cell_type": "code",
      "source": [
        "disarium()"
      ],
      "metadata": {
        "colab": {
          "base_uri": "https://localhost:8080/"
        },
        "id": "ZdnERv_6QBKL",
        "outputId": "a1b60146-fd4f-46c1-b7d0-a91e566a588e"
      },
      "execution_count": 4,
      "outputs": [
        {
          "name": "stdout",
          "output_type": "stream",
          "text": [
            "Enter a number: aaa\n"
          ]
        },
        {
          "output_type": "stream",
          "name": "stderr",
          "text": [
            "ERROR:root:An exception has occurred\n",
            "ERROR:root:The exception is invalid literal for int() with base 10: 'a'\n",
            "Traceback (most recent call last):\n",
            "  File \"<ipython-input-1-fabfe3516d94>\", line 11, in disarium\n",
            "    sum = sum + (int(i) ** p)\n",
            "ValueError: invalid literal for int() with base 10: 'a'\n"
          ]
        },
        {
          "output_type": "stream",
          "name": "stdout",
          "text": [
            "Enter a numerical character\n",
            "Program completed\n"
          ]
        }
      ]
    },
    {
      "cell_type": "markdown",
      "source": [
        "2. Write a Python program to print all disarium numbers between 1 to 100?\n"
      ],
      "metadata": {
        "id": "ILJHiyCCLL3Z"
      }
    },
    {
      "cell_type": "code",
      "source": [
        "def calc(num):\n",
        "  logging.info(\"Program started\")\n",
        "  sum = 0\n",
        "  p = 1\n",
        "  for i in num:\n",
        "    sum = sum + (int(i) ** p)\n",
        "    p = p + 1\n",
        "  logging.info(\"Execution Successful\")\n",
        "  return sum"
      ],
      "metadata": {
        "id": "EHEDnxDSThGk"
      },
      "execution_count": 5,
      "outputs": []
    },
    {
      "cell_type": "code",
      "source": [
        "logging.info(\"Range is set\")\n",
        "count = 0\n",
        "try:\n",
        "  for i in range(1,101):\n",
        "    if calc(str(i)) == i:\n",
        "      print(f\"{i} is disarium\")\n",
        "      count += 1\n",
        "except:\n",
        "  logging.error(\"An error has occurred\")\n",
        "  logging.exception(\"Exception is \"+ str(e))\n",
        "logging.info(\"Number of successful executions \"+ str(count))"
      ],
      "metadata": {
        "colab": {
          "base_uri": "https://localhost:8080/"
        },
        "id": "tPGSC6j2Usfs",
        "outputId": "7929f641-c843-4cc6-85e9-e712e7db500d"
      },
      "execution_count": 6,
      "outputs": [
        {
          "output_type": "stream",
          "name": "stdout",
          "text": [
            "1 is disarium\n",
            "2 is disarium\n",
            "3 is disarium\n",
            "4 is disarium\n",
            "5 is disarium\n",
            "6 is disarium\n",
            "7 is disarium\n",
            "8 is disarium\n",
            "9 is disarium\n",
            "89 is disarium\n"
          ]
        }
      ]
    },
    {
      "cell_type": "markdown",
      "source": [
        "3. Write a Python program to check if the given number is Happy Number?\n"
      ],
      "metadata": {
        "id": "HlNOWlAzLN2B"
      }
    },
    {
      "cell_type": "code",
      "source": [
        "def calculation(n):\n",
        "  logging.info(\"Calculating and returning n\")\n",
        "  n = sum(int(i)**2 for i in str(n))\n",
        "  return n"
      ],
      "metadata": {
        "id": "R8rfEXvT8gq4"
      },
      "execution_count": 7,
      "outputs": []
    },
    {
      "cell_type": "code",
      "source": [
        "def happy_num(num):\n",
        "  try:\n",
        "    logging.info(\"Number verification to enable loop process\")\n",
        "    while(num != 1 and num != 4):\n",
        "      logging.info(\"Calling calculation\")\n",
        "      num = calculation(num)    \n",
        "    if num == 1:\n",
        "      logging.info(\"Happy number encountered\")\n",
        "      print(\"Happy number\");\n",
        "    elif num == 4:\n",
        "      logging.info(\"Happy number not encountered\")\n",
        "      print(\"Not a happy number\");\n",
        "  except Exception as e:\n",
        "    logging.error(\"An error occurred\")\n",
        "    logging.exception(\"Exception is \"+ str(e))"
      ],
      "metadata": {
        "id": "XAo8p17R5IQW"
      },
      "execution_count": 8,
      "outputs": []
    },
    {
      "cell_type": "code",
      "source": [
        "happy_num(6)"
      ],
      "metadata": {
        "colab": {
          "base_uri": "https://localhost:8080/"
        },
        "id": "cPzRhcSs-Z64",
        "outputId": "44ef3971-8a18-4263-de1b-6e73790bbfe1"
      },
      "execution_count": 9,
      "outputs": [
        {
          "output_type": "stream",
          "name": "stdout",
          "text": [
            "Not a happy number\n"
          ]
        }
      ]
    },
    {
      "cell_type": "code",
      "source": [
        "happy_num(13)"
      ],
      "metadata": {
        "colab": {
          "base_uri": "https://localhost:8080/"
        },
        "id": "cKE2Fxto-mWH",
        "outputId": "1aa83b86-8334-4d89-9db8-ffe80d78cf4b"
      },
      "execution_count": 10,
      "outputs": [
        {
          "output_type": "stream",
          "name": "stdout",
          "text": [
            "Happy number\n"
          ]
        }
      ]
    },
    {
      "cell_type": "markdown",
      "source": [
        "4. Write a Python program to print all happy numbers between 1 and 100?\n"
      ],
      "metadata": {
        "id": "hVqonQC0LPhC"
      }
    },
    {
      "cell_type": "code",
      "source": [
        "def happy_num1(num):\n",
        "  try:\n",
        "    logging.info(\"Number verification to enable loop process\")\n",
        "    while(num != 1 and num != 4):\n",
        "      logging.info(\"Calling calculation function\") \n",
        "      num = calculation(num)     \n",
        "    if num == 1:  \n",
        "      return True\n",
        "  except Exception as e:\n",
        "    logging.error(\"An error has occurred\")\n",
        "    logging.exception(\"Exception is \"+ str(e))"
      ],
      "metadata": {
        "id": "kItdxnx-_C2I"
      },
      "execution_count": 11,
      "outputs": []
    },
    {
      "cell_type": "code",
      "source": [
        "logging.info(\"Range set from 1 to 100 to find happy numbers\")\n",
        "count = 0\n",
        "for i in range(1,101):\n",
        "  if happy_num1(i):\n",
        "    print(i)\n",
        "    count += 1\n",
        "logging.info(\"Total successful executions \" + str(count))"
      ],
      "metadata": {
        "colab": {
          "base_uri": "https://localhost:8080/"
        },
        "id": "N07eFRqoLVAS",
        "outputId": "9e16177d-3727-4a18-894a-ef412b691956"
      },
      "execution_count": 12,
      "outputs": [
        {
          "output_type": "stream",
          "name": "stdout",
          "text": [
            "1\n",
            "7\n",
            "10\n",
            "13\n",
            "19\n",
            "23\n",
            "28\n",
            "31\n",
            "32\n",
            "44\n",
            "49\n",
            "68\n",
            "70\n",
            "79\n",
            "82\n",
            "86\n",
            "91\n",
            "94\n",
            "97\n",
            "100\n"
          ]
        }
      ]
    },
    {
      "cell_type": "markdown",
      "source": [
        "5. Write a Python program to determine whether the given number is a Harshad Number?\n"
      ],
      "metadata": {
        "id": "D9iOme1ILRLB"
      }
    },
    {
      "cell_type": "code",
      "source": [
        "def harshad(num):\n",
        "  logging.info(\"Executing harshad function\")\n",
        "  sum = 0\n",
        "  try:\n",
        "    logging.info(\"Starting loop process\")\n",
        "    for i in str(num):\n",
        "      sum = sum + int(i)\n",
        "    if num % sum == 0:\n",
        "      logging.info(\"Logging harshad number \"+ str(num))\n",
        "      print(f\"{num} is a harshad number\")\n",
        "    else:\n",
        "      logging.info(\"Logging non harshad number \"+ str(num))\n",
        "      print(f\"{num} is not harshad number\")\n",
        "  except Exception as e:\n",
        "    logging.error(\"An error has occurred\")\n",
        "    logging.exception(\"The exception \"+ str(e))"
      ],
      "metadata": {
        "id": "9ogVjNALLVfy"
      },
      "execution_count": 13,
      "outputs": []
    },
    {
      "cell_type": "code",
      "source": [
        "harshad(156)"
      ],
      "metadata": {
        "colab": {
          "base_uri": "https://localhost:8080/"
        },
        "id": "McbJDS32E2sA",
        "outputId": "bee65862-1603-4bc9-d77d-ff45498ce94d"
      },
      "execution_count": 14,
      "outputs": [
        {
          "output_type": "stream",
          "name": "stdout",
          "text": [
            "156 is a harshad number\n"
          ]
        }
      ]
    },
    {
      "cell_type": "code",
      "source": [
        "harshad(157)"
      ],
      "metadata": {
        "colab": {
          "base_uri": "https://localhost:8080/"
        },
        "id": "mQ8o2374FDuR",
        "outputId": "5d1a7d24-c593-49c8-e0a4-08f64a7ff8e3"
      },
      "execution_count": 15,
      "outputs": [
        {
          "output_type": "stream",
          "name": "stdout",
          "text": [
            "157 is not harshad number\n"
          ]
        }
      ]
    },
    {
      "cell_type": "markdown",
      "source": [
        "6. Write a Python program to print all pronic numbers between 1 and 100?"
      ],
      "metadata": {
        "id": "5iAI4r7mLS-i"
      }
    },
    {
      "cell_type": "code",
      "source": [
        "def pronic(num):\n",
        "  try:\n",
        "    logging.info(\"Pronic function started\")\n",
        "    n = 0\n",
        "    for i in range(num):\n",
        "      if i*(i+1) == num:\n",
        "        n = 1\n",
        "        break\n",
        "    logging.info(\"Loop executed\")\n",
        "    if n == 1:\n",
        "      logging.info(\"Logging pronic number \"+ str(num))\n",
        "      print(f\"{num}\")\n",
        "  except Exception as e:\n",
        "    logging.error(\"An error occurred\")\n",
        "    logging.exception(\"Exception is \"+ str(e))"
      ],
      "metadata": {
        "id": "FRhBi-iULWU5"
      },
      "execution_count": 30,
      "outputs": []
    },
    {
      "cell_type": "code",
      "source": [
        "count = 0\n",
        "logging.info(\"Setting range from 1 to 100 to get pronic numbers\")\n",
        "for i in range(1,101):\n",
        "  pronic(i)\n",
        "  count += 1\n",
        "logging.info(\"Logging total executions \"+str(count))"
      ],
      "metadata": {
        "colab": {
          "base_uri": "https://localhost:8080/"
        },
        "id": "jzYb5dt_Iaa5",
        "outputId": "7bcfe2c6-1477-4535-d552-7179722477f2"
      },
      "execution_count": 31,
      "outputs": [
        {
          "output_type": "stream",
          "name": "stdout",
          "text": [
            "2\n",
            "6\n",
            "12\n",
            "20\n",
            "30\n",
            "42\n",
            "56\n",
            "72\n",
            "90\n"
          ]
        }
      ]
    },
    {
      "cell_type": "code",
      "source": [],
      "metadata": {
        "id": "OW4Oej7ZSi8M"
      },
      "execution_count": null,
      "outputs": []
    }
  ]
}