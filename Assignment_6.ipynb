{
  "nbformat": 4,
  "nbformat_minor": 0,
  "metadata": {
    "colab": {
      "provenance": [],
      "authorship_tag": "ABX9TyMGRmspC1WDFJQtp+xCSMXU",
      "include_colab_link": true
    },
    "kernelspec": {
      "name": "python3",
      "display_name": "Python 3"
    },
    "language_info": {
      "name": "python"
    }
  },
  "cells": [
    {
      "cell_type": "markdown",
      "metadata": {
        "id": "view-in-github",
        "colab_type": "text"
      },
      "source": [
        "<a href=\"https://colab.research.google.com/github/Ajay0110/Assignments/blob/main/Assignment_6.ipynb\" target=\"_parent\"><img src=\"https://colab.research.google.com/assets/colab-badge.svg\" alt=\"Open In Colab\"/></a>"
      ]
    },
    {
      "cell_type": "markdown",
      "source": [
        "1. What are escape characters, and how do you use them?"
      ],
      "metadata": {
        "id": "h_ilhJ5iUc6M"
      }
    },
    {
      "cell_type": "markdown",
      "source": [
        "Escape characters represent characters in string values that would otherwise be difficult or impossible to type into code. we can use the backslash character to escape a single character or symbol\n",
        "example: \\t, \\n"
      ],
      "metadata": {
        "id": "fveczzYUVUsT"
      }
    },
    {
      "cell_type": "markdown",
      "source": [
        "2. What do the escape characters n and t stand for?"
      ],
      "metadata": {
        "id": "FIUNqC3FUfMT"
      }
    },
    {
      "cell_type": "markdown",
      "source": [
        "\\n is a newline, \\t is a tab"
      ],
      "metadata": {
        "id": "aWGD6tU8VXHT"
      }
    },
    {
      "cell_type": "markdown",
      "source": [
        "3. What is the way to include backslash characters in a string?"
      ],
      "metadata": {
        "id": "vgB05iFNUg1j"
      }
    },
    {
      "cell_type": "markdown",
      "source": [
        "The \\\\\\ escape character will represent the backslash character in a string"
      ],
      "metadata": {
        "id": "4D6dxe4-Vc97"
      }
    },
    {
      "cell_type": "markdown",
      "source": [
        "4. The string &quot;Howl&#39;s Moving Castle&quot; is a correct value. Why isn&#39;t the single quote character in the\n",
        "word Howl&#39;s not escaped a problem?"
      ],
      "metadata": {
        "id": "MuzeAeFyUjjj"
      }
    },
    {
      "cell_type": "markdown",
      "source": [
        "The string \"Howl's Moving Castle\" escaped the problem because it is wrapped inside double quotes. if its wrapped inside single quotes then we have to use escape character \\' to show single quote in the final output\n",
        "\n",
        "'Howl\\'s Moving Castle' -> 'Howl's Moving Castle'"
      ],
      "metadata": {
        "id": "9SqSu5V6Vm5y"
      }
    },
    {
      "cell_type": "markdown",
      "source": [
        "5. How do you write a string of newlines if you don&#39;t want to use the n character?"
      ],
      "metadata": {
        "id": "D0r_lUAaUk5L"
      }
    },
    {
      "cell_type": "markdown",
      "source": [
        "Multiline string allow you to use newlines in string without the \\n escape character"
      ],
      "metadata": {
        "id": "2XtXuHaXVtQ6"
      }
    },
    {
      "cell_type": "code",
      "source": [
        "# Example\n",
        "a = '''Learning Python in\n",
        "ineuron Data Science Course'''\n",
        "print(a)"
      ],
      "metadata": {
        "colab": {
          "base_uri": "https://localhost:8080/"
        },
        "id": "OQhGB_H5V33T",
        "outputId": "2311a919-f6d7-460d-e5e3-79f35d97b3cf"
      },
      "execution_count": 1,
      "outputs": [
        {
          "output_type": "stream",
          "name": "stdout",
          "text": [
            "Learning Python in\n",
            "ineuron Data Science Course\n"
          ]
        }
      ]
    },
    {
      "cell_type": "markdown",
      "source": [
        "6. What are the values of the given expressions?\n",
        "\n",
        "&#39;Hello, world!&#39;[1]\n",
        "\n",
        "&#39;Hello, world!&#39;[0:5]\n",
        "\n",
        "&#39;Hello, world!&#39;[:5]\n",
        "\n",
        "&#39;Hello, world!&#39;[3:]"
      ],
      "metadata": {
        "id": "cP8W34RLUqJj"
      }
    },
    {
      "cell_type": "markdown",
      "source": [
        "The values for the given expressions are:\n",
        "\n",
        "'Hello, world!'[1] -> 'e'\n",
        "\n",
        "'Hello, world!'[0:5] -> 'Hello'\n",
        "\n",
        "'Hello, world!'[:5] -> 'Hello'\n",
        "\n",
        "'Hello, world!'[3:] -> 'lo, world!'"
      ],
      "metadata": {
        "id": "p5-8jqwQWE8T"
      }
    },
    {
      "cell_type": "markdown",
      "source": [
        "7. What are the values of the following expressions?\n",
        "\n",
        "&#39;Hello&#39;.upper()\n",
        "\n",
        "&#39;Hello&#39;.upper().isupper()\n",
        "\n",
        "&#39;Hello&#39;.upper().lower()"
      ],
      "metadata": {
        "id": "OY4IyTLaUwka"
      }
    },
    {
      "cell_type": "markdown",
      "source": [
        "The values for the given expressions are:\n",
        "'Hello'.upper() -> 'HELLO'\n",
        "\n",
        "'Hello'.upper().isupper() -> True\n",
        "\n",
        "'Hello'.upper().lower() -> 'hello'"
      ],
      "metadata": {
        "id": "oLuwE-CaWNqq"
      }
    },
    {
      "cell_type": "markdown",
      "source": [
        "8. What are the values of the following expressions?\n",
        "\n",
        "&#39;Remember, remember, the fifth of July.&#39;.split()\n",
        "\n",
        "&#39;-&#39;.join(&#39;There can only one.&#39;.split())"
      ],
      "metadata": {
        "id": "4KT_XglOU1T6"
      }
    },
    {
      "cell_type": "markdown",
      "source": [
        "The values for the given expressions are:\n",
        "\n",
        "'Remember, remember, the fifith of July.'.split() -> ['Remember,', 'remember,', 'the', 'fifith', 'of', 'July.']\n",
        "\n",
        "'-'.join('There can only one'.split()) -> 'There-can-only-one'"
      ],
      "metadata": {
        "id": "K1Nj81Q9WVsD"
      }
    },
    {
      "cell_type": "markdown",
      "source": [
        "9. What are the methods for right-justifying, left-justifying, and centering a string?"
      ],
      "metadata": {
        "id": "j8QN8cwWU6zy"
      }
    },
    {
      "cell_type": "markdown",
      "source": [
        "The rjust(),ljust(),center() string methods, respectively"
      ],
      "metadata": {
        "id": "WKadCEseWcfr"
      }
    },
    {
      "cell_type": "markdown",
      "source": [
        "10. What is the best way to remove whitespace characters from the start or end?"
      ],
      "metadata": {
        "id": "tXh8VwOfU-GC"
      }
    },
    {
      "cell_type": "markdown",
      "source": [
        "The lstrip() and rstrip() methods remove whitesapce characters from the left and right ends of a string respectively"
      ],
      "metadata": {
        "id": "1FgqnxErWeBb"
      }
    }
  ]
}