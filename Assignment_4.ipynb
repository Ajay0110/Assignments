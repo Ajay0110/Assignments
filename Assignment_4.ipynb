{
  "nbformat": 4,
  "nbformat_minor": 0,
  "metadata": {
    "colab": {
      "provenance": [],
      "authorship_tag": "ABX9TyOomoYLlWYMr+gEcoGOtHvl",
      "include_colab_link": true
    },
    "kernelspec": {
      "name": "python3",
      "display_name": "Python 3"
    },
    "language_info": {
      "name": "python"
    }
  },
  "cells": [
    {
      "cell_type": "markdown",
      "metadata": {
        "id": "view-in-github",
        "colab_type": "text"
      },
      "source": [
        "<a href=\"https://colab.research.google.com/github/Ajay0110/Assignments/blob/main/Assignment_4.ipynb\" target=\"_parent\"><img src=\"https://colab.research.google.com/assets/colab-badge.svg\" alt=\"Open In Colab\"/></a>"
      ]
    },
    {
      "cell_type": "markdown",
      "source": [
        "1. What exactly is []?"
      ],
      "metadata": {
        "id": "XtjWZxhvb8Qj"
      }
    },
    {
      "cell_type": "markdown",
      "source": [
        "A list value which contains no items."
      ],
      "metadata": {
        "id": "hQH3-yxUb-cj"
      }
    },
    {
      "cell_type": "markdown",
      "source": [
        "2. In a list of values stored in a variable called spam, how would you assign the value 'hello' as the third value? (Assume [2, 4, 6, 8, 10] are in spam.)"
      ],
      "metadata": {
        "id": "jhFYETCnb-fC"
      }
    },
    {
      "cell_type": "code",
      "source": [
        "spam = [2,4,6,8,10]"
      ],
      "metadata": {
        "id": "sRsqrihhcDn7"
      },
      "execution_count": 1,
      "outputs": []
    },
    {
      "cell_type": "code",
      "source": [
        "spam[2] = \"hello\"\n",
        "spam"
      ],
      "metadata": {
        "colab": {
          "base_uri": "https://localhost:8080/"
        },
        "id": "yuZpFWoYcJaq",
        "outputId": "4c7c41a6-cffb-44fd-ad0a-a0da719fbfa6"
      },
      "execution_count": 2,
      "outputs": [
        {
          "output_type": "execute_result",
          "data": {
            "text/plain": [
              "[2, 4, 'hello', 8, 10]"
            ]
          },
          "metadata": {},
          "execution_count": 2
        }
      ]
    },
    {
      "cell_type": "markdown",
      "source": [
        "Let's pretend the spam includes the list ['a', 'b', 'c', 'd'] for the next three queries."
      ],
      "metadata": {
        "id": "lKHIowTVb-hz"
      }
    },
    {
      "cell_type": "code",
      "source": [
        "spam = [2,4,6,8,10,'a','b','c','d']"
      ],
      "metadata": {
        "id": "9RWsZfZlclgj"
      },
      "execution_count": 3,
      "outputs": []
    },
    {
      "cell_type": "markdown",
      "source": [
        "3. What is the value of spam[int(int('3' * 2) / 11)]?"
      ],
      "metadata": {
        "id": "sKiE2u5pb-kb"
      }
    },
    {
      "cell_type": "code",
      "source": [
        "spam[int(int('3'*2)/11)]"
      ],
      "metadata": {
        "colab": {
          "base_uri": "https://localhost:8080/"
        },
        "id": "_BOfCqbBctLD",
        "outputId": "3fa59b97-b39c-474d-e7a9-b72d09bd5b95"
      },
      "execution_count": 4,
      "outputs": [
        {
          "output_type": "execute_result",
          "data": {
            "text/plain": [
              "8"
            ]
          },
          "metadata": {},
          "execution_count": 4
        }
      ]
    },
    {
      "cell_type": "markdown",
      "source": [
        "4. What is the value of spam[-1]?"
      ],
      "metadata": {
        "id": "X7feb2thcyq6"
      }
    },
    {
      "cell_type": "code",
      "source": [
        "spam[-1]"
      ],
      "metadata": {
        "colab": {
          "base_uri": "https://localhost:8080/",
          "height": 36
        },
        "id": "d1FVWuvfcuTK",
        "outputId": "95dc0e39-a047-45dd-e497-f87837cbae25"
      },
      "execution_count": 5,
      "outputs": [
        {
          "output_type": "execute_result",
          "data": {
            "text/plain": [
              "'d'"
            ],
            "application/vnd.google.colaboratory.intrinsic+json": {
              "type": "string"
            }
          },
          "metadata": {},
          "execution_count": 5
        }
      ]
    },
    {
      "cell_type": "markdown",
      "source": [
        "Negative indexes count from the end."
      ],
      "metadata": {
        "id": "7ulKO8MgdCUk"
      }
    },
    {
      "cell_type": "markdown",
      "source": [
        "5. What is the value of spam[:2]?"
      ],
      "metadata": {
        "id": "LZCfZ3EGb-m9"
      }
    },
    {
      "cell_type": "code",
      "source": [
        "spam[:2]"
      ],
      "metadata": {
        "colab": {
          "base_uri": "https://localhost:8080/"
        },
        "id": "au_II1UfdJJX",
        "outputId": "e22a7dd3-19bf-49a9-a9ff-99574250b82c"
      },
      "execution_count": 6,
      "outputs": [
        {
          "output_type": "execute_result",
          "data": {
            "text/plain": [
              "[2, 4]"
            ]
          },
          "metadata": {},
          "execution_count": 6
        }
      ]
    },
    {
      "cell_type": "markdown",
      "source": [
        "Let's pretend bacon has the list [3.14, 'cat,' 11, 'cat,' True] for the next three questions."
      ],
      "metadata": {
        "id": "X5bDfIGcb-pq"
      }
    },
    {
      "cell_type": "code",
      "source": [
        "bacon = [3.14, 'cat', 11, 'cat', True]"
      ],
      "metadata": {
        "id": "N5etxsxidRby"
      },
      "execution_count": 7,
      "outputs": []
    },
    {
      "cell_type": "markdown",
      "source": [
        "6. What is the value of bacon.index('cat')?"
      ],
      "metadata": {
        "id": "tSDjTv2fb-sy"
      }
    },
    {
      "cell_type": "code",
      "source": [
        "bacon.index('cat')"
      ],
      "metadata": {
        "colab": {
          "base_uri": "https://localhost:8080/"
        },
        "id": "VeqOqwusditb",
        "outputId": "321cec8c-c2ed-411f-8659-c2078d9aafc1"
      },
      "execution_count": 8,
      "outputs": [
        {
          "output_type": "execute_result",
          "data": {
            "text/plain": [
              "1"
            ]
          },
          "metadata": {},
          "execution_count": 8
        }
      ]
    },
    {
      "cell_type": "markdown",
      "source": [
        "7. How does bacon.append(99) change the look of the list value in bacon?"
      ],
      "metadata": {
        "id": "IDHnxaYUdmpL"
      }
    },
    {
      "cell_type": "code",
      "source": [
        "bacon.append(99)\n",
        "bacon"
      ],
      "metadata": {
        "colab": {
          "base_uri": "https://localhost:8080/"
        },
        "id": "9plI7PJpdkqb",
        "outputId": "c97a270f-5891-402a-f352-bc70a083888f"
      },
      "execution_count": 9,
      "outputs": [
        {
          "output_type": "execute_result",
          "data": {
            "text/plain": [
              "[3.14, 'cat', 11, 'cat', True, 99]"
            ]
          },
          "metadata": {},
          "execution_count": 9
        }
      ]
    },
    {
      "cell_type": "markdown",
      "source": [
        "8. How does bacon.remove('cat') change the look of the list in bacon?"
      ],
      "metadata": {
        "id": "j50y3LmNd0bD"
      }
    },
    {
      "cell_type": "code",
      "source": [
        "bacon.remove('cat')\n",
        "bacon"
      ],
      "metadata": {
        "id": "ieZ5rxULdwmy",
        "outputId": "8f48995b-cd76-41a5-dfa2-5f9dc7757c84",
        "colab": {
          "base_uri": "https://localhost:8080/"
        }
      },
      "execution_count": 10,
      "outputs": [
        {
          "output_type": "execute_result",
          "data": {
            "text/plain": [
              "[3.14, 11, 'cat', True, 99]"
            ]
          },
          "metadata": {},
          "execution_count": 10
        }
      ]
    },
    {
      "cell_type": "markdown",
      "source": [
        "9. What are the list concatenation and list replication operators?"
      ],
      "metadata": {
        "id": "jS2zTzfDd_Br"
      }
    },
    {
      "cell_type": "markdown",
      "source": [
        "The operator for list concatenation is +, and for list replication is *."
      ],
      "metadata": {
        "id": "xHrwKkd-eBuT"
      }
    },
    {
      "cell_type": "markdown",
      "source": [
        "10. What is difference between the list methods append() and insert()?"
      ],
      "metadata": {
        "id": "3MQVeD5_eBrr"
      }
    },
    {
      "cell_type": "markdown",
      "source": [
        "In list append() will add value at the end only, whereas insert() can add value at any index in the list."
      ],
      "metadata": {
        "id": "RthMKdOGeBpU"
      }
    },
    {
      "cell_type": "markdown",
      "source": [
        "11. What are the two methods for removing items from a list?"
      ],
      "metadata": {
        "id": "PcN2aHckeHds"
      }
    },
    {
      "cell_type": "markdown",
      "source": [
        "We can remove an item from the list by passing the value of the item to be deleted as the parameter to remove() function. and pop() is also a method of list for removing item from index."
      ],
      "metadata": {
        "id": "xPyS1IX8eHbU"
      }
    },
    {
      "cell_type": "markdown",
      "source": [
        "12. Describe how list values and string values are identical."
      ],
      "metadata": {
        "id": "7Hlf3MIZeHY0"
      }
    },
    {
      "cell_type": "markdown",
      "source": [
        "Both lists and strings can be passed to len(), have indexes and slices, be used in for loops, be concatenated or replicated, and be used with the in and not in operators."
      ],
      "metadata": {
        "id": "Nk4jweb4eHWU"
      }
    },
    {
      "cell_type": "markdown",
      "source": [
        "13. What's the difference between tuples and lists?"
      ],
      "metadata": {
        "id": "w87HM3CFePSz"
      }
    },
    {
      "cell_type": "markdown",
      "source": [
        "Tuples are immutable; they cannot be changed at all whereas Lists are mutable; they can have values added, removed, or changed. Also, tuples are written using parentheses, ( ), while lists use the square brackets, [ ]."
      ],
      "metadata": {
        "id": "GBs6n3KbeQdk"
      }
    },
    {
      "cell_type": "markdown",
      "source": [
        "14. How do you type a tuple value that only contains the integer 42?"
      ],
      "metadata": {
        "id": "kdVlSoZLeQbT"
      }
    },
    {
      "cell_type": "code",
      "source": [
        "t = (42,)"
      ],
      "metadata": {
        "id": "Lxnx3x-zeQGO"
      },
      "execution_count": 12,
      "outputs": []
    },
    {
      "cell_type": "code",
      "source": [
        "type(t)"
      ],
      "metadata": {
        "id": "KwxFeLgsd3Ub",
        "outputId": "250dd42a-e348-4a84-be8b-180bd8226211",
        "colab": {
          "base_uri": "https://localhost:8080/"
        }
      },
      "execution_count": 13,
      "outputs": [
        {
          "output_type": "execute_result",
          "data": {
            "text/plain": [
              "tuple"
            ]
          },
          "metadata": {},
          "execution_count": 13
        }
      ]
    },
    {
      "cell_type": "markdown",
      "source": [
        "15. How do you get a list value's tuple form? How do you get a tuple value's list form?"
      ],
      "metadata": {
        "id": "fPZirsa7edbb"
      }
    },
    {
      "cell_type": "code",
      "source": [
        "l = [1,2,3,4]"
      ],
      "metadata": {
        "id": "IDZrS3deec-L"
      },
      "execution_count": 18,
      "outputs": []
    },
    {
      "cell_type": "code",
      "source": [
        "type(l)"
      ],
      "metadata": {
        "id": "w6BxZ2qleh-M",
        "outputId": "88c8296d-3f59-4514-bde1-730aafcc6865",
        "colab": {
          "base_uri": "https://localhost:8080/"
        }
      },
      "execution_count": 19,
      "outputs": [
        {
          "output_type": "execute_result",
          "data": {
            "text/plain": [
              "list"
            ]
          },
          "metadata": {},
          "execution_count": 19
        }
      ]
    },
    {
      "cell_type": "code",
      "source": [
        "t = tuple(l[0:1])"
      ],
      "metadata": {
        "id": "1XL6UPC9emoK"
      },
      "execution_count": 24,
      "outputs": []
    },
    {
      "cell_type": "code",
      "source": [
        "t"
      ],
      "metadata": {
        "id": "-lQf3D45e4dr",
        "outputId": "5c67b930-a345-4d6c-9bbb-555e11d22ee1",
        "colab": {
          "base_uri": "https://localhost:8080/"
        }
      },
      "execution_count": 25,
      "outputs": [
        {
          "output_type": "execute_result",
          "data": {
            "text/plain": [
              "(1,)"
            ]
          },
          "metadata": {},
          "execution_count": 25
        }
      ]
    },
    {
      "cell_type": "markdown",
      "source": [
        "16. Variables that \"contain\" list values are not necessarily lists themselves. Instead, what do they contain?"
      ],
      "metadata": {
        "id": "7_lp4_5sfHBT"
      }
    },
    {
      "cell_type": "markdown",
      "source": [
        "Variables will contain references to list values rather than list values themselves."
      ],
      "metadata": {
        "id": "FXhrP3bifN9j"
      }
    },
    {
      "cell_type": "markdown",
      "source": [
        "17. How do you distinguish between copy.copy() and copy.deepcopy()?"
      ],
      "metadata": {
        "id": "VzUvq-m7fQhT"
      }
    },
    {
      "cell_type": "markdown",
      "source": [
        "The copy.copy() function will do a shallow copy of a list, while the copy.deepcopy() function will do a deep copy of a list. That is, only copy.deepcopy() will duplicate any lists inside the list."
      ],
      "metadata": {
        "id": "m8DoncIhfSxD"
      }
    }
  ]
}