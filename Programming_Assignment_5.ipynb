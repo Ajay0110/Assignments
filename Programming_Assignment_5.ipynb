{
  "nbformat": 4,
  "nbformat_minor": 0,
  "metadata": {
    "colab": {
      "provenance": [],
      "collapsed_sections": [],
      "authorship_tag": "ABX9TyP/L8xXPwcxJQNQTl9B1gVm",
      "include_colab_link": true
    },
    "kernelspec": {
      "name": "python3",
      "display_name": "Python 3"
    },
    "language_info": {
      "name": "python"
    }
  },
  "cells": [
    {
      "cell_type": "markdown",
      "metadata": {
        "id": "view-in-github",
        "colab_type": "text"
      },
      "source": [
        "<a href=\"https://colab.research.google.com/github/Ajay0110/Assignments/blob/main/Programming_Assignment_5.ipynb\" target=\"_parent\"><img src=\"https://colab.research.google.com/assets/colab-badge.svg\" alt=\"Open In Colab\"/></a>"
      ]
    },
    {
      "cell_type": "markdown",
      "source": [
        "1. Write a Python Program to Find LCM?"
      ],
      "metadata": {
        "id": "ew8I0PgBXGRz"
      }
    },
    {
      "cell_type": "code",
      "execution_count": null,
      "metadata": {
        "id": "EHpNDE7tVpnA"
      },
      "outputs": [],
      "source": [
        "def calc_lcm(x, y):\n",
        "   if x > y:\n",
        "       large = x\n",
        "   else:\n",
        "       large = y\n",
        "   while(True):\n",
        "       if((large % x == 0) and (large % y == 0)):\n",
        "           lcm = large\n",
        "           break\n",
        "       large += 1\n",
        "   return lcm"
      ]
    },
    {
      "cell_type": "code",
      "source": [
        "n1 = int(input(\"Enter a number: \"))\n",
        "n2 = int(input(\"Enter another number: \"))\n",
        "print(calc_lcm(n1,n2))"
      ],
      "metadata": {
        "colab": {
          "base_uri": "https://localhost:8080/"
        },
        "id": "W_cQGtZwcEL5",
        "outputId": "4db80e63-65b2-4160-bb86-0f0f9b7d6ddf"
      },
      "execution_count": null,
      "outputs": [
        {
          "output_type": "stream",
          "name": "stdout",
          "text": [
            "Enter a number: 10\n",
            "Enter another number: 20\n",
            "20\n"
          ]
        }
      ]
    },
    {
      "cell_type": "markdown",
      "source": [
        "2. Write a Python Program to Find HCF?"
      ],
      "metadata": {
        "id": "NmVLTWFeXHly"
      }
    },
    {
      "cell_type": "code",
      "source": [
        "def hcf(a, b):\n",
        "    if a > b:\n",
        "        small = b\n",
        "    else:\n",
        "        small = a\n",
        "    for i in range(1, small+1):\n",
        "        if((a % i == 0) and (b % i == 0)):\n",
        "            hcf = i \n",
        "    return hcf"
      ],
      "metadata": {
        "id": "QTS023eXXKW0"
      },
      "execution_count": null,
      "outputs": []
    },
    {
      "cell_type": "code",
      "source": [
        "num = int(input(\"Enter an integer: \"))\n",
        "num_2 = int(input(\"Enter another integer: \"))\n",
        "print(hcf(num,num_2))"
      ],
      "metadata": {
        "colab": {
          "base_uri": "https://localhost:8080/"
        },
        "id": "WGgRBFHsczy6",
        "outputId": "4b2bae30-8b3f-4dac-c4a0-eb2535f83d53"
      },
      "execution_count": null,
      "outputs": [
        {
          "output_type": "stream",
          "name": "stdout",
          "text": [
            "Enter an integer: 30\n",
            "Enter another integer: 40\n",
            "10\n"
          ]
        }
      ]
    },
    {
      "cell_type": "markdown",
      "source": [
        "3. Write a Python Program to Convert Decimal to Binary, Octal and Hexadecimal?"
      ],
      "metadata": {
        "id": "pgCdbi3NXHjB"
      }
    },
    {
      "cell_type": "code",
      "source": [
        "def number(st):\n",
        "  return st[2:]"
      ],
      "metadata": {
        "id": "oToh6Ml91Yn9"
      },
      "execution_count": 4,
      "outputs": []
    },
    {
      "cell_type": "code",
      "source": [
        "n = int(input(\"Enter a value: \"))\n",
        "print(f\"The binary value of decimal number {n} is {number(bin(n))}\")\n",
        "print(f\"The octal value of decimal number {n} is {number(oct(n))}\")\n",
        "print(f\"The hexadeciaml value of decimal number {n} is {number(hex(n))}\")"
      ],
      "metadata": {
        "id": "5Ns9DjClXMsp",
        "colab": {
          "base_uri": "https://localhost:8080/"
        },
        "outputId": "4229ecc9-f627-4ad0-fe29-e5687ac64d96"
      },
      "execution_count": 6,
      "outputs": [
        {
          "output_type": "stream",
          "name": "stdout",
          "text": [
            "Enter a value: 10\n",
            "The binary value of decimal number 10 is 1010\n",
            "The octal value of decimal number 10 is 12\n",
            "The hexadeciaml value of decimal number 10 is a\n"
          ]
        }
      ]
    },
    {
      "cell_type": "markdown",
      "source": [
        "4. Write a Python Program To Find ASCII value of a character?"
      ],
      "metadata": {
        "id": "WjLwavSkXHgh"
      }
    },
    {
      "cell_type": "code",
      "source": [
        "char = str(input(\"Enter a value from A to Z, a to z and 0 to 9: \"))\n",
        "print(f\"The ASCII value of {char} is {ord(char)}\")"
      ],
      "metadata": {
        "id": "DHURWJxdXPoS",
        "colab": {
          "base_uri": "https://localhost:8080/"
        },
        "outputId": "69438edb-29ca-4b26-f172-175564736472"
      },
      "execution_count": 10,
      "outputs": [
        {
          "output_type": "stream",
          "name": "stdout",
          "text": [
            "Enter a value from A to Z, a to z and 0 to 9: a\n",
            "The ASCII value of a is 97\n"
          ]
        }
      ]
    },
    {
      "cell_type": "markdown",
      "source": [
        "5. Write a Python Program to Make a Simple Calculator with 4 basic mathematical operations?"
      ],
      "metadata": {
        "id": "501nTxBgXHd5"
      }
    },
    {
      "cell_type": "code",
      "source": [
        "def calculator():\n",
        "  n1 = float(input(\"Enter a value: \"))\n",
        "  n2 = float(input(\"Enter another value: \"))\n",
        "  print(\"1. Addition 2. Subtraction 3. Multiplication 4. Division 5. Remainder\")\n",
        "  ch = int(input(\"Enter your choice: \"))\n",
        "  if ch == 1:\n",
        "    print(f\"Sum of {n1} and {n2} is: {n1+n2}\")\n",
        "  elif ch == 2:\n",
        "    print(f\"Difference of {n1} and {n2} is: {n1-n2}\")\n",
        "  elif ch == 3:\n",
        "    print(f\"Product of {n1} and {n2} is: {n1*n2}\")\n",
        "  elif ch == 4:\n",
        "    print(f\"Quotient of {n1} and {n2} is: {n1/n2}\")\n",
        "  elif ch == 5:\n",
        "    print(f\"Remainder of {n1} and {n2} is: {n1%n2}\")\n",
        "  else:\n",
        "    print(\"Please enter the value between 1 to 6\")\n",
        "  print(\"Do you want to continue? 1. Yes 2. No\")\n",
        "  n = int(input(\"Enter yout choice: \"))\n",
        "  if n == 1:\n",
        "    calculator()\n",
        "  else:\n",
        "    exit()\n",
        "\n",
        "calculator()\n",
        "\n",
        "  "
      ],
      "metadata": {
        "id": "p-TDxf5KXTLB",
        "colab": {
          "base_uri": "https://localhost:8080/"
        },
        "outputId": "d92fccaf-bb9d-4f40-e79a-a07e2e9bbae7"
      },
      "execution_count": 24,
      "outputs": [
        {
          "name": "stdout",
          "output_type": "stream",
          "text": [
            "Enter a value: 10\n",
            "Enter another value: 20\n",
            "1. Addition 2. Subtraction 3. Multiplication 4. Division 5. Remainder\n",
            "Enter your choice: 1\n",
            "Sum of 10.0 and 20.0 is: 30.0\n",
            "Do you want to continue? 1. Yes 2. No\n",
            "Enter yout choice: 1\n",
            "Enter a value: 20\n",
            "Enter another value: 60\n",
            "1. Addition 2. Subtraction 3. Multiplication 4. Division 5. Remainder\n",
            "Enter your choice: 2\n",
            "Difference of 20.0 and 60.0 is: -40.0\n",
            "Do you want to continue? 1. Yes 2. No\n",
            "Enter yout choice: 1\n",
            "Enter a value: 12\n",
            "Enter another value: 5\n",
            "1. Addition 2. Subtraction 3. Multiplication 4. Division 5. Remainder\n",
            "Enter your choice: 3\n",
            "Product of 12.0 and 5.0 is: 60.0\n",
            "Do you want to continue? 1. Yes 2. No\n",
            "Enter yout choice: 1\n",
            "Enter a value: 42\n",
            "Enter another value: 24\n",
            "1. Addition 2. Subtraction 3. Multiplication 4. Division 5. Remainder\n",
            "Enter your choice: 4\n",
            "Quotient of 42.0 and 24.0 is: 1.75\n",
            "Do you want to continue? 1. Yes 2. No\n",
            "Enter yout choice: 1\n",
            "Enter a value: 42\n",
            "Enter another value: 12\n",
            "1. Addition 2. Subtraction 3. Multiplication 4. Division 5. Remainder\n",
            "Enter your choice: 5\n",
            "Remainder of 42.0 and 12.0 is: 6.0\n",
            "Do you want to continue? 1. Yes 2. No\n",
            "Enter yout choice: 2\n"
          ]
        }
      ]
    }
  ]
}