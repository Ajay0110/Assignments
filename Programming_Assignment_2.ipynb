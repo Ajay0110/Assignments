{
  "nbformat": 4,
  "nbformat_minor": 0,
  "metadata": {
    "colab": {
      "provenance": [],
      "collapsed_sections": [],
      "authorship_tag": "ABX9TyPkg9cRoQNpfQG+8U7eaiDD",
      "include_colab_link": true
    },
    "kernelspec": {
      "name": "python3",
      "display_name": "Python 3"
    },
    "language_info": {
      "name": "python"
    }
  },
  "cells": [
    {
      "cell_type": "markdown",
      "metadata": {
        "id": "view-in-github",
        "colab_type": "text"
      },
      "source": [
        "<a href=\"https://colab.research.google.com/github/Ajay0110/Assignments/blob/main/Programming_Assignment_2.ipynb\" target=\"_parent\"><img src=\"https://colab.research.google.com/assets/colab-badge.svg\" alt=\"Open In Colab\"/></a>"
      ]
    },
    {
      "cell_type": "markdown",
      "source": [
        "1. Write a Python program to convert kilometers to miles?"
      ],
      "metadata": {
        "id": "tBULkfjYDFDI"
      }
    },
    {
      "cell_type": "code",
      "execution_count": 6,
      "metadata": {
        "colab": {
          "base_uri": "https://localhost:8080/"
        },
        "id": "thXtpL9CC25R",
        "outputId": "9c5a5c90-2021-4d74-9434-0a01e3883be6"
      },
      "outputs": [
        {
          "output_type": "stream",
          "name": "stdout",
          "text": [
            "Enter kilometers to convert: 12.5\n",
            "7.7671375000000005 miles for 12.5 kilometers\n"
          ]
        }
      ],
      "source": [
        "# Kilometers as input\n",
        "km = float(input(\"Enter kilometers to convert: \"))\n",
        "# WKT 1 kilometer = 0.621371\n",
        "print(f\"{km*0.621371} miles for {km} kilometers\")"
      ]
    },
    {
      "cell_type": "markdown",
      "source": [
        "2. Write a Python program to convert Celsius to Fahrenheit?"
      ],
      "metadata": {
        "id": "y4oftvnkFCqo"
      }
    },
    {
      "cell_type": "code",
      "source": [
        "# Celsius as input\n",
        "cel = float(input(\"Enter celsius temperature to convert: \"))\n",
        "# Output in fahrenheit\n",
        "print(f\"{cel} degree celsius in fahrenheit is {(cel*1.8)+32}\")"
      ],
      "metadata": {
        "colab": {
          "base_uri": "https://localhost:8080/"
        },
        "id": "LPu6M6jTEm4I",
        "outputId": "75094fef-717e-44c5-ca60-db71e71517d1"
      },
      "execution_count": 2,
      "outputs": [
        {
          "output_type": "stream",
          "name": "stdout",
          "text": [
            "Enter celsius temperature to convert: 12.7\n",
            "12.7 degree celsius in fahrenheit is 54.86\n"
          ]
        }
      ]
    },
    {
      "cell_type": "markdown",
      "source": [
        "3. Write a Python program to display calendar?"
      ],
      "metadata": {
        "id": "sSV9_fz8GqC_"
      }
    },
    {
      "cell_type": "code",
      "source": [
        "# Importing calendar module\n",
        "import calendar\n",
        "# Taking month and year input from the user\n",
        "year = int(input(\"Enter year: \"))\n",
        "month = int(input(\"Enter month: \"))\n",
        "\n",
        "# Displaying calendar\n",
        "print(calendar.month(year, month))"
      ],
      "metadata": {
        "colab": {
          "base_uri": "https://localhost:8080/"
        },
        "id": "petZL_17GUvY",
        "outputId": "3f80cb7a-ec9f-4ba6-e935-db87a9d6a512"
      },
      "execution_count": 4,
      "outputs": [
        {
          "output_type": "stream",
          "name": "stdout",
          "text": [
            "Enter year: 2005\n",
            "Enter month: 12\n",
            "   December 2005\n",
            "Mo Tu We Th Fr Sa Su\n",
            "          1  2  3  4\n",
            " 5  6  7  8  9 10 11\n",
            "12 13 14 15 16 17 18\n",
            "19 20 21 22 23 24 25\n",
            "26 27 28 29 30 31\n",
            "\n"
          ]
        }
      ]
    },
    {
      "cell_type": "markdown",
      "source": [
        "4. Write a Python program to solve quadratic equation?"
      ],
      "metadata": {
        "id": "71ObRTguHdTY"
      }
    },
    {
      "cell_type": "markdown",
      "source": [
        "ax**2 + bx + c = 0 is a quadratic equation where a, b and c are co-efficients and real numbers.\n",
        "1.   If a == 0 then it is not a quadratic equation.\n",
        "2.   If a!=0 then b**2-4*a*c is calculated\n",
        "1.   If b**2-4*a*c is greater than 0 then o/p is real and different roots\n",
        "1.   If b**2-4*a*c is equal to 0 then o/p is real and same roots\n",
        "2.   If b**2-4*a*c is lesser than 0 then o/p is complex roots\n",
        "\n",
        "\n",
        "\n"
      ],
      "metadata": {
        "id": "In69IkxpJszw"
      }
    },
    {
      "cell_type": "code",
      "source": [
        "import math\n",
        "# Inputs for coefficients a, b and c\n",
        "a = int(input(\"Enter value for cofficient a: \"))\n",
        "b = int(input(\"Enter value for cofficient b: \"))\n",
        "c = int(input(\"Enter value for cofficient c: \"))\n",
        "if a==0:\n",
        "  print(\"Not a quadratic equation\")\n",
        "  exit()\n",
        "else:\n",
        "  discriminant = (b**2)-(4*a*c)\n",
        "  sqrt_val = math.sqrt(abs(discriminant))\n",
        "  root1 = (-b - sqrt_val) / (2 * a)\n",
        "  root2 = (-b + sqrt_val) / (2 * a)\n",
        "  if discriminant > 0:\n",
        "    print(\"Roots are real and different\")\n",
        "    print(f\"The roots are {root1} and {root2}\")\n",
        "  elif discriminant == 0:\n",
        "    print(\"Roots are real and same\")\n",
        "    print(f\"The roots are {root1} and {root2}\")\n",
        "  else:\n",
        "    print(\"Complex roots\")\n",
        "    print(f\"The roots are {root1} and {root2}\")"
      ],
      "metadata": {
        "colab": {
          "base_uri": "https://localhost:8080/"
        },
        "id": "E3R8u41cIBNx",
        "outputId": "29dffe5a-4d8c-4f19-eed9-f13da1a2b6c5"
      },
      "execution_count": 8,
      "outputs": [
        {
          "output_type": "stream",
          "name": "stdout",
          "text": [
            "Enter value for cofficient a: 4\n",
            "Enter value for cofficient b: 4\n",
            "Enter value for cofficient c: 3\n",
            "Complex roots\n",
            "The roots are -1.2071067811865475 and 0.20710678118654757\n"
          ]
        }
      ]
    },
    {
      "cell_type": "markdown",
      "source": [
        "5. Write a Python program to swap two variables without temp variable?\n"
      ],
      "metadata": {
        "id": "0AwRxazAHdMu"
      }
    },
    {
      "cell_type": "code",
      "source": [
        "# Initializing a and b\n",
        "a=4\n",
        "b=8\n",
        "# Printing values before swap\n",
        "print(f\"Before swapping: a is {a} and b is {b}\")\n",
        "# Swapping without third variable\n",
        "a = a+b\n",
        "b = a-b\n",
        "a = a-b\n",
        "# Printing values after swap\n",
        "print(f\"Swapping without third varible: a is {a} and b is {b}\")"
      ],
      "metadata": {
        "colab": {
          "base_uri": "https://localhost:8080/"
        },
        "id": "cps0miEhHR1w",
        "outputId": "dbc53c3b-f022-4da9-9c50-8a8bb81036f5"
      },
      "execution_count": 5,
      "outputs": [
        {
          "output_type": "stream",
          "name": "stdout",
          "text": [
            "Before swapping: a is 4 and b is 8\n",
            "Swapping without third varible: a is 8 and b is 4\n"
          ]
        }
      ]
    }
  ]
}