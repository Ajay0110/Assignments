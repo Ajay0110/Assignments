{
  "cells": [
    {
      "cell_type": "markdown",
      "metadata": {
        "id": "view-in-github",
        "colab_type": "text"
      },
      "source": [
        "<a href=\"https://colab.research.google.com/github/Ajay0110/Assignments/blob/main/Assignment_9.ipynb\" target=\"_parent\"><img src=\"https://colab.research.google.com/assets/colab-badge.svg\" alt=\"Open In Colab\"/></a>"
      ]
    },
    {
      "cell_type": "markdown",
      "id": "765d61bf",
      "metadata": {
        "id": "765d61bf"
      },
      "source": [
        "1.To what does a relative path refer ?\n",
        "\n",
        "The relative path is the path to some file with respect to your current working directory (PWD).\n",
        "For example: if Absolute path to a file called stuff.txt is: C:/users/admin/docs/stuff.txt If my PWD is C:/users/admin/ , then the relative path to stuff.txt would be: docs/stuff.txt\n",
        "Note: PWD + relative path = absolute path"
      ]
    },
    {
      "cell_type": "markdown",
      "id": "499a0819",
      "metadata": {
        "id": "499a0819"
      },
      "source": [
        "2.Where does an absolute path start with your Operating System ?\n",
        "\n",
        " In Linux based systems the absolute path starts with /. Where as in Windows based systems absolute path starts with C:"
      ]
    },
    {
      "cell_type": "code",
      "execution_count": null,
      "id": "49a62048",
      "metadata": {
        "id": "49a62048"
      },
      "outputs": [],
      "source": [
        "3.What does the functions os.getcwd() and os.chdir() do ?\n",
        "\n",
        "os.getcwd() method tells us the location of current working directory (CWD). Whereas os.chdir() method in Python used to change the current working directory to specified path. These functions are similar to linux commands pwd and cd"
      ]
    },
    {
      "cell_type": "code",
      "execution_count": null,
      "id": "6f93a42b",
      "metadata": {
        "id": "6f93a42b",
        "outputId": "1057fa3d-34f1-4b4e-9a83-0932081ef596"
      },
      "outputs": [
        {
          "name": "stdout",
          "output_type": "stream",
          "text": [
            "C:\\Users\\PUMAS\n",
            "C:\\Users\\pumas\\Documents\n"
          ]
        }
      ],
      "source": [
        "import os\n",
        "print(os.getcwd()) # Prints the current Working Directory\n",
        "path = r'C:\\Users\\pumas\\Documents'\n",
        "os.chdir(path)\n",
        "print(os.getcwd())"
      ]
    },
    {
      "cell_type": "markdown",
      "id": "db9a7273",
      "metadata": {
        "id": "db9a7273"
      },
      "source": [
        "4.What are . and .. folders ?\n",
        "\n",
        ". Represents the Current Directory Whereas .. Represents the Parent Directory of the Current Directory\n",
        "For Example: if the below path is my absolute path:\n",
        "C:\\\\Users\\\\vishnu\\\\Documents\\\\iNeuron-Assignments\\\\Python Basic Assignment\n",
        "Then . represents the path C:\\\\Users\\\\vishnu\\\\Documents\\\\iNeuron-Assignments\\\\Python Basic Assignment\n",
        "Where as .. represents the path C:\\\\Users\\\\vishnu\\\\Documents\\\\iNeuron-Assignments"
      ]
    },
    {
      "cell_type": "markdown",
      "id": "fc813499",
      "metadata": {
        "id": "fc813499"
      },
      "source": [
        "5.In C:\\bacon\\eggs\\spam.txt which part is the dir name and which part is the base name ?\n",
        "\n",
        "For C:\\bacon\\eggs\\spam.txt\n",
        "The dir name is C:\\\\bacon\\\\eggs\n",
        "The Base name is spam.txt"
      ]
    },
    {
      "cell_type": "code",
      "execution_count": null,
      "id": "cd4e19cf",
      "metadata": {
        "id": "cd4e19cf",
        "outputId": "05fe68c5-e4db-49df-fba0-9de7ef0f21ef"
      },
      "outputs": [
        {
          "name": "stdout",
          "output_type": "stream",
          "text": [
            "C:\\bacon\\eggs\n",
            "spam.txt\n"
          ]
        }
      ],
      "source": [
        "import os\n",
        "path = r'C:\\bacon\\eggs\\spam.txt'\n",
        "print(os.path.dirname(path))\n",
        "print(os.path.basename(path))"
      ]
    },
    {
      "cell_type": "markdown",
      "id": "4f50e329",
      "metadata": {
        "id": "4f50e329"
      },
      "source": [
        "6.What are the three mode arguments that can be passed to the open() function ?\n",
        "\n",
        "A file can be Accessed in python using open() function. open function takes two arguments filename and mode of operation (optional). if mode is not provided the default mode of opening is read mode\n",
        "So, the syntax being: open(filename, mode)\n",
        "\n",
        "‘r’ – Read Mode: This is the default mode for open(). The file is opened and a pointer is positioned at the beginning of the file’s content.\n",
        "‘w’ – Write Mode: Using this mode will overwrite any existing content in a file. If the given file does not exist, a new one will be created.\n",
        "‘r+’ – Read/Write Mode: Use this mode if you need to simultaneously read and write to a file.\n",
        "‘a’ – Append Mode: With this mode the user can append the data without overwriting any already existing data in the file.\n",
        "‘a+’ – Append and Read Mode: In this mode you can read and append the data without overwriting the original file.\n",
        "‘x’ – Exclusive Creating Mode: This mode is for the sole purpose of creating new files. Use this mode if you know the file to be written doesn’t exist beforehand."
      ]
    },
    {
      "cell_type": "markdown",
      "id": "5e4b142e",
      "metadata": {
        "id": "5e4b142e"
      },
      "source": [
        "7.What happens if an existing file is opened in write mode ?\n",
        "\n",
        "Using this mode will overwrite any existing content in a file. If the given file does not exist, a new one will be created."
      ]
    },
    {
      "cell_type": "markdown",
      "id": "73b02cb1",
      "metadata": {
        "id": "73b02cb1"
      },
      "source": [
        "8.How do you tell the difference between read() and readlines() ?\n",
        "\n",
        "The main difference is that read() will read the whole file at once and then print out the first characters that take up as many bytes as you specify in the parenthesis\n",
        "\n",
        "Whereas the readline() that will read and print out only the first characters that take up as many bytes as you specify in the parenthesis. You may want to use readline() when you're reading files that are too big for your RAM.\n",
        "\n",
        "The read() would treat each character in the file separately, meaning that the iteration would happen for every character.\n",
        "\n",
        "The readline() function, on the other hand, only reads a single line of the file. This means that if the first line of the file were three lines long, the readline() function would only parse (or iterate/operate) on the first line of the file."
      ]
    },
    {
      "cell_type": "markdown",
      "id": "e0a0c19c",
      "metadata": {
        "id": "e0a0c19c"
      },
      "source": [
        "9.What data structure does a shelf value resemble ?\n",
        "\n",
        "It contains key and values it represents dictionary."
      ]
    }
  ],
  "metadata": {
    "kernelspec": {
      "display_name": "Python 3 (ipykernel)",
      "language": "python",
      "name": "python3"
    },
    "language_info": {
      "codemirror_mode": {
        "name": "ipython",
        "version": 3
      },
      "file_extension": ".py",
      "mimetype": "text/x-python",
      "name": "python",
      "nbconvert_exporter": "python",
      "pygments_lexer": "ipython3",
      "version": "3.9.12"
    },
    "colab": {
      "provenance": [],
      "include_colab_link": true
    }
  },
  "nbformat": 4,
  "nbformat_minor": 5
}