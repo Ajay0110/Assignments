{
  "nbformat": 4,
  "nbformat_minor": 0,
  "metadata": {
    "colab": {
      "provenance": [],
      "collapsed_sections": [],
      "authorship_tag": "ABX9TyORIF6Lf+yNJELHzFa0d6EN",
      "include_colab_link": true
    },
    "kernelspec": {
      "name": "python3",
      "display_name": "Python 3"
    },
    "language_info": {
      "name": "python"
    }
  },
  "cells": [
    {
      "cell_type": "markdown",
      "metadata": {
        "id": "view-in-github",
        "colab_type": "text"
      },
      "source": [
        "<a href=\"https://colab.research.google.com/github/Ajay0110/Assignments/blob/main/Programming_Assignment_6.ipynb\" target=\"_parent\"><img src=\"https://colab.research.google.com/assets/colab-badge.svg\" alt=\"Open In Colab\"/></a>"
      ]
    },
    {
      "cell_type": "markdown",
      "source": [
        "Write a Python Program to Display Fibonacci Sequence Using Recursion?"
      ],
      "metadata": {
        "id": "XjAz8s4hJxqJ"
      }
    },
    {
      "cell_type": "code",
      "execution_count": 7,
      "metadata": {
        "colab": {
          "base_uri": "https://localhost:8080/"
        },
        "id": "8SylcWlnJpOO",
        "outputId": "2c868d70-bdf1-4822-9f5f-ae5c81f1767c"
      },
      "outputs": [
        {
          "output_type": "stream",
          "name": "stdout",
          "text": [
            "Enter number of terms:10\n",
            "Fibonacci sequence:\n",
            "0\n",
            "1\n",
            "1\n",
            "2\n",
            "3\n",
            "5\n",
            "8\n",
            "13\n",
            "21\n",
            "34\n"
          ]
        }
      ],
      "source": [
        "def fibonacci(n):\n",
        "    if(n <= 1):\n",
        "        return n\n",
        "    else:\n",
        "        return(fibonacci(n-1) + fibonacci(n-2))\n",
        "n = int(input(\"Enter number of terms:\"))\n",
        "print(\"Fibonacci sequence:\")\n",
        "for i in range(n):\n",
        "    print(fibonacci(i))"
      ]
    },
    {
      "cell_type": "markdown",
      "source": [
        "Write a Python Program to Find Factorial of Number Using Recursion?"
      ],
      "metadata": {
        "id": "C82mhVaRJykh"
      }
    },
    {
      "cell_type": "code",
      "source": [
        "def factorial(n):  \n",
        "    return 1 if (n==1 or n==0) else n * factorial(n - 1);  \n",
        "  \n",
        "n = int(input(\"Enter a number to get factorial: \"))\n",
        "print(\"Factorial of\",n,\"is\")  \n",
        "factorial(n)"
      ],
      "metadata": {
        "colab": {
          "base_uri": "https://localhost:8080/"
        },
        "id": "4y5nrNVzJzEQ",
        "outputId": "8b99f7e2-61f8-4531-867e-5d0413847d24"
      },
      "execution_count": 9,
      "outputs": [
        {
          "output_type": "stream",
          "name": "stdout",
          "text": [
            "Enter a number to get factorial: 5\n",
            "Factorial of 5 is\n"
          ]
        },
        {
          "output_type": "execute_result",
          "data": {
            "text/plain": [
              "120"
            ]
          },
          "metadata": {},
          "execution_count": 9
        }
      ]
    },
    {
      "cell_type": "markdown",
      "source": [
        "Write a Python Program to calculate your Body Mass Index?"
      ],
      "metadata": {
        "id": "LjujpTjrJzdQ"
      }
    },
    {
      "cell_type": "code",
      "source": [
        "# Program to calculate BMI\n",
        "def body_mass_index():\n",
        "  height = float(input(\"Enter height in centimeters: \"))\n",
        "  weight = float(input(\"Enter weight in kilograms: \"))\n",
        "  bmi = weight / (height/100)**2\n",
        "  print(\"You BMI  is :: \",bmi)\n",
        "  if bmi <= 18.4:\n",
        "      print(\"You are underweight.\")\n",
        "  elif bmi <= 24.9:\n",
        "      print(\"You are healthy.\")\n",
        "  elif bmi <= 29.9:\n",
        "      print(\"You are over weight.\")\n",
        "  elif bmi <= 34.9:\n",
        "      print(\"You are severely over weight.\")\n",
        "  elif bmi <= 39.9:\n",
        "      print(\"You are obese.\")\n",
        "  else:\n",
        "      print(\"You are severely obese.\")\n",
        "  print(\"\")\n",
        "  n = int(input(\"Check again?!!!: 1. Yes 2. No\"))\n",
        "  if n == 1:\n",
        "    body_mass_index()\n",
        "  else:\n",
        "    print(\"Thank you for checking.\")\n",
        "    exit()\n",
        "\n",
        "body_mass_index()"
      ],
      "metadata": {
        "colab": {
          "base_uri": "https://localhost:8080/"
        },
        "id": "TWsrdoKJJz0A",
        "outputId": "4415834e-50b1-4cc3-d524-4760699d786a"
      },
      "execution_count": 1,
      "outputs": [
        {
          "output_type": "stream",
          "name": "stdout",
          "text": [
            "Enter height in centimeters: 180\n",
            "Enter weight in kilograms: 85\n",
            "You BMI  is ::  26.234567901234566\n",
            "You are over weight.\n",
            "\n",
            "Check again?!!!: 1. Yes 2. No2\n",
            "Thank you for checking.\n"
          ]
        }
      ]
    },
    {
      "cell_type": "markdown",
      "source": [
        "Write a Python Program to calculate the natural logarithm of any number?"
      ],
      "metadata": {
        "id": "MlOjQ50vJ6Kh"
      }
    },
    {
      "cell_type": "code",
      "source": [
        "import math\n",
        "n = float(input(\"Enter a number: \"))\n",
        "print (f\"Natural logarithm of {n} is {math.log(n)}\")"
      ],
      "metadata": {
        "colab": {
          "base_uri": "https://localhost:8080/"
        },
        "id": "m-ZpBD4JJ8ZS",
        "outputId": "1d8394c4-adcb-4868-c2e0-ede8c68ca73a"
      },
      "execution_count": 1,
      "outputs": [
        {
          "output_type": "stream",
          "name": "stdout",
          "text": [
            "Enter a number: 15.2\n",
            "Natural logarithm of 15.2 is 2.7212954278522306\n"
          ]
        }
      ]
    },
    {
      "cell_type": "markdown",
      "source": [
        "Write a Python Program for cube sum of first n natural numbers?"
      ],
      "metadata": {
        "id": "nQgcvl6WJ87Q"
      }
    },
    {
      "cell_type": "code",
      "source": [
        "sum = 0\n",
        "n = int(input(\"Enter the number of natural numbers to have cube sum: \"))\n",
        "for i in range(1,n):\n",
        "  sum = sum+i**3\n",
        "print(f\"Cube sum of {n} natural numbers is {sum}\")  "
      ],
      "metadata": {
        "colab": {
          "base_uri": "https://localhost:8080/"
        },
        "id": "n7tkyyWwJ_h6",
        "outputId": "ec619d2c-2a57-4b66-e7f6-ebce6b470ade"
      },
      "execution_count": 2,
      "outputs": [
        {
          "output_type": "stream",
          "name": "stdout",
          "text": [
            "Enter the number of natural numbers to have cube sum: 10\n",
            "Cube sum of 10 natural numbers is 2025\n"
          ]
        }
      ]
    },
    {
      "cell_type": "code",
      "source": [],
      "metadata": {
        "id": "R7iBSmN_QWvy"
      },
      "execution_count": null,
      "outputs": []
    }
  ]
}