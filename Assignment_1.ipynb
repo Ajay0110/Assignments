{
  "nbformat": 4,
  "nbformat_minor": 0,
  "metadata": {
    "colab": {
      "provenance": [],
      "collapsed_sections": [],
      "authorship_tag": "ABX9TyP6H5/yR5nqXP5sS51MqAsn",
      "include_colab_link": true
    },
    "kernelspec": {
      "name": "python3",
      "display_name": "Python 3"
    },
    "language_info": {
      "name": "python"
    }
  },
  "cells": [
    {
      "cell_type": "markdown",
      "metadata": {
        "id": "view-in-github",
        "colab_type": "text"
      },
      "source": [
        "<a href=\"https://colab.research.google.com/github/Ajay0110/Assignments/blob/main/Assignment_1.ipynb\" target=\"_parent\"><img src=\"https://colab.research.google.com/assets/colab-badge.svg\" alt=\"Open In Colab\"/></a>"
      ]
    },
    {
      "cell_type": "markdown",
      "source": [
        "1. In the below elements which of them are values or an expression? eg:- values can be\n",
        "integer or string and expressions will be mathematical operators.\n",
        "\n",
        "*, \n",
        "&#39;hello&#39;, \n",
        "-87.8, \n",
        "-, \n",
        "/, \n",
        "+, \n",
        "6"
      ],
      "metadata": {
        "id": "PdfOuH74E6zq"
      }
    },
    {
      "cell_type": "markdown",
      "source": [
        "Operators: *,-,/,+\n",
        "\n",
        "Expressions: 'hello', 87.8, 6"
      ],
      "metadata": {
        "id": "MMe9VceuFYoi"
      }
    },
    {
      "cell_type": "markdown",
      "source": [
        "2. What is the difference between string and variable?"
      ],
      "metadata": {
        "id": "BtYvx4NEE4ja"
      }
    },
    {
      "cell_type": "markdown",
      "source": [
        "A Python variable is a symbolic name that is a reference or pointer to an object. Once an object is assigned to a variable, you can refer to the object by that name.\n",
        "\n",
        "Characters enclosed within single or double quotes.\n",
        "\n",
        "Ex: string1 = \"This is string within double quotes\"\n",
        "\n",
        "string2 = 'This is string within single quote' "
      ],
      "metadata": {
        "id": "bxiuC1ezFhsy"
      }
    },
    {
      "cell_type": "markdown",
      "source": [
        "3. Describe three different Data Types ?"
      ],
      "metadata": {
        "id": "_nfaJM_dGWCa"
      }
    },
    {
      "cell_type": "markdown",
      "source": [
        "Three fundamental Data types in python are int, float, complex.\n",
        "\n",
        "int data type: We can use int data type to represent whole numbers (integral values)\n",
        "\n",
        "float data type: We can use float data type to represent floating point values (decimal values)\n",
        "\n",
        "complex data type: Complex number is represented by complex class. It is specified as (real part) + (imaginary part)j"
      ],
      "metadata": {
        "id": "g75TSQnhGWAR"
      }
    },
    {
      "cell_type": "markdown",
      "source": [
        "4. What is an expression made up of? What do all expressions do?"
      ],
      "metadata": {
        "id": "8uY0X9NEGV9x"
      }
    },
    {
      "cell_type": "markdown",
      "source": [
        "An expression is a construct made up of variables, operators, and method invocations, which are constructed according to the syntax of the language, that evaluates to a single value"
      ],
      "metadata": {
        "id": "RMVcccNaGV7a"
      }
    },
    {
      "cell_type": "markdown",
      "source": [
        "5. This assignment statements, like spam = 10. What is the difference between an\n",
        "expression and a statement?"
      ],
      "metadata": {
        "id": "3eeI4uD6G5Gq"
      }
    },
    {
      "cell_type": "markdown",
      "source": [
        "An expression is a combination of values, variables, and operators.When we type an expression at the prompt, the interpreter evaluates it, which means that it finds the value of the expression.\n",
        "\n",
        "eg: 4*5+20-40 is an example of a statement\n",
        "\n",
        "A statement is a unit of code that has an effect, like creating a variable or displaying a value.When we type a statement, the interpreter executes it, which means that it does whatever the statement says. In general, statements donÃ¢Â€Â™t have values.\n",
        "\n",
        "eg: variable declaration and assignment are statements because they do not return a value"
      ],
      "metadata": {
        "id": "HETCBopNHI5q"
      }
    },
    {
      "cell_type": "code",
      "source": [
        "#Example:\n",
        "4*5+20-40 # Is a Expression\n",
        "courseName = 'INeuron FullStack DataScience' # Is a Statement\n",
        "print(\"Hello World !\") # Is a Expression Statement"
      ],
      "metadata": {
        "colab": {
          "base_uri": "https://localhost:8080/"
        },
        "id": "tSCHFiQjIxRa",
        "outputId": "c522bba6-423a-41ab-bc4a-a5aba8217267"
      },
      "execution_count": 1,
      "outputs": [
        {
          "output_type": "stream",
          "name": "stdout",
          "text": [
            "Hello World !\n"
          ]
        }
      ]
    },
    {
      "cell_type": "markdown",
      "source": [
        "6. After running the following code, what does the variable bacon contain?\n",
        "bacon = 22\n",
        "bacon + 1"
      ],
      "metadata": {
        "id": "a8lWzmzPG5Bq"
      }
    },
    {
      "cell_type": "markdown",
      "source": [
        "The variable bacon is set to 22 .The expression bacon + 1 does not reassign the value in bacon (that would the case if the expression is like bacon = bacon + 1 instead of bacon + 1)"
      ],
      "metadata": {
        "id": "U27dU8TJG4_C"
      }
    },
    {
      "cell_type": "code",
      "source": [
        "# Example Case#1\n",
        "bacon=22\n",
        "bacon+1\n",
        "print(bacon)"
      ],
      "metadata": {
        "colab": {
          "base_uri": "https://localhost:8080/"
        },
        "id": "QLcU58fVJZr0",
        "outputId": "66d3681e-77ce-49ac-d5e3-f7131d370e4e"
      },
      "execution_count": 2,
      "outputs": [
        {
          "output_type": "stream",
          "name": "stdout",
          "text": [
            "22\n"
          ]
        }
      ]
    },
    {
      "cell_type": "code",
      "source": [
        "#Example Case#2\n",
        "bacon=22\n",
        "bacon=bacon+1 \n",
        "print(bacon)"
      ],
      "metadata": {
        "colab": {
          "base_uri": "https://localhost:8080/"
        },
        "id": "dKALTPLAJf8S",
        "outputId": "0ebd51a7-b22f-4b6c-a236-0753d97390b5"
      },
      "execution_count": 3,
      "outputs": [
        {
          "output_type": "stream",
          "name": "stdout",
          "text": [
            "23\n"
          ]
        }
      ]
    },
    {
      "cell_type": "markdown",
      "source": [
        "7. What should the values of the following two terms be?\n",
        "&#39;spam&#39; + &#39;spamspam&#39;\n",
        "&#39;spam&#39; * 3"
      ],
      "metadata": {
        "id": "xo34k5BOJIIL"
      }
    },
    {
      "cell_type": "markdown",
      "source": [
        "Both expressions evaluate to the string 'spamspamspam' Where as the first expression follows String Concatentation and the second expression follows String Multiplication"
      ],
      "metadata": {
        "id": "atWiy-KBJk5S"
      }
    },
    {
      "cell_type": "code",
      "source": [
        "print('spam'+'spamspam') # string concatenation\n",
        "print('spam'*3) # string multiplication"
      ],
      "metadata": {
        "colab": {
          "base_uri": "https://localhost:8080/"
        },
        "id": "MgUEVMdrJoyS",
        "outputId": "a8f37c89-9592-4902-c97c-b2e9bf291c1e"
      },
      "execution_count": 4,
      "outputs": [
        {
          "output_type": "stream",
          "name": "stdout",
          "text": [
            "spamspamspam\n",
            "spamspamspam\n"
          ]
        }
      ]
    },
    {
      "cell_type": "markdown",
      "source": [
        "8. Why is eggs a valid variable name while 100 is invalid?"
      ],
      "metadata": {
        "id": "6lzqK8zvJuG7"
      }
    },
    {
      "cell_type": "markdown",
      "source": [
        "As per python,Variable names cannot begin with a number. The python rules for naming a variable are :-\n",
        "\n",
        "Variable name must start with a letter or the underscore character.\n",
        "\n",
        "Variable name cannot start with a number.\n",
        "\n",
        "Variable name can only contain alpha-numeric characters and underscores (A-z, 0-9, & _ ).\n",
        "\n",
        "Variable names are case-sensitive (name, INEURON and ineuron are three different variables).\n",
        "\n",
        "The reserved words(keywords) cannot be used naming the variable."
      ],
      "metadata": {
        "id": "lhlHwtF3Jxuq"
      }
    },
    {
      "cell_type": "markdown",
      "source": [
        "9. What three functions can be used to get the integer, floating-point number, or string\n",
        "version of a value?"
      ],
      "metadata": {
        "id": "jh_yTo2IJ4da"
      }
    },
    {
      "cell_type": "code",
      "source": [
        "egg='Ineuron' # Valid variable Initilization\n",
        "100='hello' # Invalid Variable Initilization\n",
        "print(egg) #prints the value of egg ie Ineuron\n",
        "print(100) # Raises a Syntax Error as 100 is not a valid variable name"
      ],
      "metadata": {
        "colab": {
          "base_uri": "https://localhost:8080/",
          "height": 135
        },
        "id": "K35IN4qzKBt6",
        "outputId": "3c918af7-d181-4435-872d-6ad7918c7f0b"
      },
      "execution_count": 5,
      "outputs": [
        {
          "output_type": "error",
          "ename": "SyntaxError",
          "evalue": "ignored",
          "traceback": [
            "\u001b[0;36m  File \u001b[0;32m\"<ipython-input-5-dbb106b946bd>\"\u001b[0;36m, line \u001b[0;32m2\u001b[0m\n\u001b[0;31m    100='hello' # Invalid Variable Initilization\u001b[0m\n\u001b[0m                                                ^\u001b[0m\n\u001b[0;31mSyntaxError\u001b[0m\u001b[0;31m:\u001b[0m can't assign to literal\n"
          ]
        }
      ]
    },
    {
      "cell_type": "markdown",
      "source": [
        "9. What three functions can be used to get the integer, floating-point number, or string\n",
        "version of a value?"
      ],
      "metadata": {
        "id": "--rNhl8mJ7Wy"
      }
    },
    {
      "cell_type": "markdown",
      "source": [
        "The int(),float(),and str() functions will evaluate to the integer,floating-point number,string version of the value passed to them."
      ],
      "metadata": {
        "id": "PvdGVmqZKQ7i"
      }
    },
    {
      "cell_type": "code",
      "source": [
        "# Examples:\n",
        "print('int(10.0) -> ',int(10.0)) # int() function converts given input to int\n",
        "print('float(10) -> ',float(10)) # float() function converts given input to float\n",
        "print('str(10) -> ',str(10)) # str() function converts given input to string"
      ],
      "metadata": {
        "colab": {
          "base_uri": "https://localhost:8080/"
        },
        "id": "qSTy90mXJuuK",
        "outputId": "d5f0f2ad-8550-412f-ef13-27a0f143058f"
      },
      "execution_count": 6,
      "outputs": [
        {
          "output_type": "stream",
          "name": "stdout",
          "text": [
            "int(10.0) ->  10\n",
            "float(10) ->  10.0\n",
            "str(10) ->  10\n"
          ]
        }
      ]
    },
    {
      "cell_type": "markdown",
      "source": [
        "10. Why does this expression cause an error? How can you fix it?\n",
        "\n",
        "&#39;I have eaten &#39; + 99 + &#39; burritos.&#39;"
      ],
      "metadata": {
        "id": "99eBCojpKIaC"
      }
    },
    {
      "cell_type": "markdown",
      "source": [
        "This cause of error is 99.because 99 is not a string. 99 must be typecasted to a string to fix this error. the correct way is:\n",
        "\n",
        "Input: 'I have eaten ' + str(99) + 'burritos.'\n",
        "\n",
        "Output: 'I have eaten 99 burritos.'"
      ],
      "metadata": {
        "id": "CoD0gn0rKJa7"
      }
    },
    {
      "cell_type": "code",
      "source": [
        "print('I have eaten '+str(99)+' burritos')"
      ],
      "metadata": {
        "colab": {
          "base_uri": "https://localhost:8080/"
        },
        "id": "8bAXGWhnKoKK",
        "outputId": "f09eff6f-ddf8-4532-b598-ec7aa0c6d674"
      },
      "execution_count": 7,
      "outputs": [
        {
          "output_type": "stream",
          "name": "stdout",
          "text": [
            "I have eaten 99 burritos\n"
          ]
        }
      ]
    }
  ]
}