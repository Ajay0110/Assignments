{
  "nbformat": 4,
  "nbformat_minor": 0,
  "metadata": {
    "colab": {
      "provenance": [],
      "authorship_tag": "ABX9TyOlXI1zHIUzSzXfLo0ZYMU9",
      "include_colab_link": true
    },
    "kernelspec": {
      "name": "python3",
      "display_name": "Python 3"
    },
    "language_info": {
      "name": "python"
    }
  },
  "cells": [
    {
      "cell_type": "markdown",
      "metadata": {
        "id": "view-in-github",
        "colab_type": "text"
      },
      "source": [
        "<a href=\"https://colab.research.google.com/github/Ajay0110/Assignments/blob/main/Assignment_5.ipynb\" target=\"_parent\"><img src=\"https://colab.research.google.com/assets/colab-badge.svg\" alt=\"Open In Colab\"/></a>"
      ]
    },
    {
      "cell_type": "markdown",
      "source": [
        "1. What does an empty dictionary's code look like?\n",
        "\n"
      ],
      "metadata": {
        "id": "G_pNu_S0hJ8V"
      }
    },
    {
      "cell_type": "markdown",
      "source": [
        "\n",
        "d = {}"
      ],
      "metadata": {
        "id": "phEj9HE7hJ58"
      }
    },
    {
      "cell_type": "markdown",
      "source": [
        "2. What is the value of a dictionary value with the key 'foo' and the value 42?"
      ],
      "metadata": {
        "id": "uWAFBBOYhJ3r"
      }
    },
    {
      "cell_type": "markdown",
      "source": [
        "\n",
        "d = {'foo':42}"
      ],
      "metadata": {
        "id": "qEP0deojhJ09"
      }
    },
    {
      "cell_type": "markdown",
      "source": [
        "3. What is the most significant distinction between a dictionary and a list?"
      ],
      "metadata": {
        "id": "nORlKz4EhJyL"
      }
    },
    {
      "cell_type": "markdown",
      "source": [
        "A list is an ordered sequence of items, whereas dictionaries are unordered sets."
      ],
      "metadata": {
        "id": "jYSdBm3JhJvr"
      }
    },
    {
      "cell_type": "markdown",
      "source": [
        "4. What happens if you try to access spam['foo'] if spam is {'bar': 100}?"
      ],
      "metadata": {
        "id": "ZmX_OKEphJtE"
      }
    },
    {
      "cell_type": "markdown",
      "source": [
        "A KeyError is given"
      ],
      "metadata": {
        "id": "xuGF_PoohaLD"
      }
    },
    {
      "cell_type": "markdown",
      "source": [
        "5. If a dictionary is stored in spam, what is the difference between the expressions 'cat' in spam and 'cat' in spam.keys()?"
      ],
      "metadata": {
        "id": "-e1w6ks0haD8"
      }
    },
    {
      "cell_type": "markdown",
      "source": [
        "There is no difference. The in operator checks whether a value exists as a key in the dictionary."
      ],
      "metadata": {
        "id": "aAJXDqZahsUM"
      }
    },
    {
      "cell_type": "markdown",
      "source": [
        "6. If a dictionary is stored in spam, what is the difference between the expressions 'cat' in spam and 'cat' in spam.values()?"
      ],
      "metadata": {
        "id": "i2Y4KCythvHD"
      }
    },
    {
      "cell_type": "markdown",
      "source": [
        "'cat' in spam checks whether a value exists as a key 'cat' in the dictionary, while 'cat' in spam.values() checks whether there is a value 'cat' for one of the keys in spam."
      ],
      "metadata": {
        "id": "K8VB2TsAhxOz"
      }
    },
    {
      "cell_type": "markdown",
      "source": [
        "7. What is a shortcut for the following code?\n",
        "\n",
        "if 'color' not in spam:\n",
        "\n",
        "spam['color'] = 'black'"
      ],
      "metadata": {
        "id": "pRTLUGUShzkT"
      }
    },
    {
      "cell_type": "code",
      "source": [
        "spam.setdefault('color', 'black')"
      ],
      "metadata": {
        "colab": {
          "base_uri": "https://localhost:8080/",
          "height": 36
        },
        "id": "dkWXHTJ4h8WE",
        "outputId": "b79ce403-60ec-4ae0-9fd5-d94803270606"
      },
      "execution_count": null,
      "outputs": [
        {
          "output_type": "execute_result",
          "data": {
            "text/plain": [
              "'black'"
            ],
            "application/vnd.google.colaboratory.intrinsic+json": {
              "type": "string"
            }
          },
          "metadata": {},
          "execution_count": 2
        }
      ]
    },
    {
      "cell_type": "markdown",
      "source": [
        "8. How do you \"pretty print\" dictionary values using which module and function?"
      ],
      "metadata": {
        "id": "NuHA8d1yiAhD"
      }
    },
    {
      "cell_type": "code",
      "source": [
        "import pprint\n",
        "pp = pprint.PrettyPrinter(indent=2)\n",
        "pp.pprint(spam)"
      ],
      "metadata": {
        "colab": {
          "base_uri": "https://localhost:8080/"
        },
        "id": "hIweflgKiBdb",
        "outputId": "25be8b70-7606-4146-daf8-06b5e433b2ff"
      },
      "execution_count": null,
      "outputs": [
        {
          "output_type": "stream",
          "name": "stdout",
          "text": [
            "{'bar': 100, 'color': 'black'}\n"
          ]
        }
      ]
    }
  ]
}