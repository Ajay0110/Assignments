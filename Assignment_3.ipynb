{
  "nbformat": 4,
  "nbformat_minor": 0,
  "metadata": {
    "colab": {
      "provenance": [],
      "authorship_tag": "ABX9TyNSNmEdmY07bY8osjcKmvsc",
      "include_colab_link": true
    },
    "kernelspec": {
      "name": "python3",
      "display_name": "Python 3"
    },
    "language_info": {
      "name": "python"
    }
  },
  "cells": [
    {
      "cell_type": "markdown",
      "metadata": {
        "id": "view-in-github",
        "colab_type": "text"
      },
      "source": [
        "<a href=\"https://colab.research.google.com/github/Ajay0110/Assignments/blob/main/Assignment_3.ipynb\" target=\"_parent\"><img src=\"https://colab.research.google.com/assets/colab-badge.svg\" alt=\"Open In Colab\"/></a>"
      ]
    },
    {
      "cell_type": "markdown",
      "source": [
        "1. Why are functions advantageous to have in your programs?"
      ],
      "metadata": {
        "id": "WPtgB24vaeim"
      }
    },
    {
      "cell_type": "markdown",
      "source": [
        "Functions reduce the need for duplicate code. This makes programs shorter, easier to read, and easier to update."
      ],
      "metadata": {
        "id": "xmvewXnJaelb"
      }
    },
    {
      "cell_type": "markdown",
      "source": [],
      "metadata": {
        "id": "pE5AO_UiaeoD"
      }
    },
    {
      "cell_type": "markdown",
      "source": [
        "2. When does the code in a function run: when it's specified or when it's called?"
      ],
      "metadata": {
        "id": "FdFP6boeaeqb"
      }
    },
    {
      "cell_type": "markdown",
      "source": [
        "The code in a function executes when the function is called, not when the function is defined."
      ],
      "metadata": {
        "id": "YScXUhMnaevD"
      }
    },
    {
      "cell_type": "markdown",
      "source": [
        "3. What statement creates a function?"
      ],
      "metadata": {
        "id": "-L2ekRCKaexz"
      }
    },
    {
      "cell_type": "markdown",
      "source": [
        "\n",
        "The def statement defines (that is, creates) a function."
      ],
      "metadata": {
        "id": "5Km-9lRUae0b"
      }
    },
    {
      "cell_type": "markdown",
      "source": [
        "4. What is the difference between a function and a function call?"
      ],
      "metadata": {
        "id": "G8FzeTLZae27"
      }
    },
    {
      "cell_type": "markdown",
      "source": [
        "A function is a block of code that does a particular operation and returns a result. It usually accepts inputs as parameters and returns a result. The parameters are not mandatory. A function call is the code used to pass control to a function."
      ],
      "metadata": {
        "id": "GkzdKBW4ae5b"
      }
    },
    {
      "cell_type": "markdown",
      "source": [
        "5. How many global scopes are there in a Python program? How many local scopes?"
      ],
      "metadata": {
        "id": "NBI71-G5ae8L"
      }
    },
    {
      "cell_type": "markdown",
      "source": [
        "There is one global scope, and a local scope is created whenever a function is called."
      ],
      "metadata": {
        "id": "7db-VSNcae-z"
      }
    },
    {
      "cell_type": "markdown",
      "source": [
        "6. What happens to variables in a local scope when the function call returns?"
      ],
      "metadata": {
        "id": "u8V-7qCqafBT"
      }
    },
    {
      "cell_type": "markdown",
      "source": [
        "When a function returns, the local scope is destroyed, and all the variables in it are forgotten"
      ],
      "metadata": {
        "id": "-8GTHpyfafD_"
      }
    },
    {
      "cell_type": "markdown",
      "source": [
        "7. What is the concept of a return value? Is it possible to have a return value in an expression?"
      ],
      "metadata": {
        "id": "yvoky59VafGj"
      }
    },
    {
      "cell_type": "markdown",
      "source": [
        "A return value is the value that a function call evaluates to. Like any value, a return value can be used as part of an expression."
      ],
      "metadata": {
        "id": "YrCu8R6JafJb"
      }
    },
    {
      "cell_type": "markdown",
      "source": [
        "8. If a function does not have a return statement, what is the return value of a call to that function?"
      ],
      "metadata": {
        "id": "iIsoOZl3afML"
      }
    },
    {
      "cell_type": "markdown",
      "source": [
        "If there is no return statement for a function, its return value is None."
      ],
      "metadata": {
        "id": "4vm-xZ67afRD"
      }
    },
    {
      "cell_type": "markdown",
      "source": [
        "9. How do you make a function variable refer to the global variable?"
      ],
      "metadata": {
        "id": "DhCfie49afUL"
      }
    },
    {
      "cell_type": "markdown",
      "source": [
        "A global statement will force a variable in a function to refer to the global variable."
      ],
      "metadata": {
        "id": "AGO1o9rjafWr"
      }
    },
    {
      "cell_type": "markdown",
      "source": [
        "10. What is the data type of None?"
      ],
      "metadata": {
        "id": "KvN_hwEmafZb"
      }
    },
    {
      "cell_type": "markdown",
      "source": [
        "The data type of None is NoneType."
      ],
      "metadata": {
        "id": "kOD6GuQQafcL"
      }
    },
    {
      "cell_type": "markdown",
      "source": [
        "11. What does the sentence import areallyourpetsnamederic do?"
      ],
      "metadata": {
        "id": "6cHK5OYfafe7"
      }
    },
    {
      "cell_type": "markdown",
      "source": [
        "That import statement imports a module named areallyourpetsnamederic."
      ],
      "metadata": {
        "id": "O93zTyKFafhr"
      }
    },
    {
      "cell_type": "markdown",
      "source": [
        "12. If you had a bacon() feature in a spam module, what would you call it after importing spam?"
      ],
      "metadata": {
        "id": "v2q2nC3hafkV"
      }
    },
    {
      "cell_type": "markdown",
      "source": [
        "This function can be called with spam.bacon()."
      ],
      "metadata": {
        "id": "7f00aKT8afnD"
      }
    },
    {
      "cell_type": "markdown",
      "source": [
        "13. What can you do to save a programme from crashing if it encounters an error?"
      ],
      "metadata": {
        "id": "ESLBXGfGafqF"
      }
    },
    {
      "cell_type": "markdown",
      "source": [
        "Place the line of code that might cause an error in a try clause."
      ],
      "metadata": {
        "id": "BUCCoxpYafsr"
      }
    },
    {
      "cell_type": "markdown",
      "source": [
        "14. What is the purpose of the try clause? What is the purpose of the except clause?"
      ],
      "metadata": {
        "id": "9PslyQk2bjRL"
      }
    },
    {
      "cell_type": "markdown",
      "source": [
        "The code that could potentially cause an error goes in the try clause.\n",
        "\n",
        "The code that executes if an error happens goes in the except clause."
      ],
      "metadata": {
        "id": "hVp-3m0EbkIc"
      }
    }
  ]
}