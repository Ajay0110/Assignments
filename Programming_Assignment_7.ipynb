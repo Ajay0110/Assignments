{
  "nbformat": 4,
  "nbformat_minor": 0,
  "metadata": {
    "colab": {
      "provenance": [],
      "collapsed_sections": [],
      "authorship_tag": "ABX9TyO2vRDdRa6AR5R6oP41RYBl",
      "include_colab_link": true
    },
    "kernelspec": {
      "name": "python3",
      "display_name": "Python 3"
    },
    "language_info": {
      "name": "python"
    }
  },
  "cells": [
    {
      "cell_type": "markdown",
      "metadata": {
        "id": "view-in-github",
        "colab_type": "text"
      },
      "source": [
        "<a href=\"https://colab.research.google.com/github/Ajay0110/Assignments/blob/main/Programming_Assignment_7.ipynb\" target=\"_parent\"><img src=\"https://colab.research.google.com/assets/colab-badge.svg\" alt=\"Open In Colab\"/></a>"
      ]
    },
    {
      "cell_type": "markdown",
      "source": [
        "1. Write a Python Program to find sum of array?"
      ],
      "metadata": {
        "id": "Ru9lKw4TRcLU"
      }
    },
    {
      "cell_type": "code",
      "execution_count": 1,
      "metadata": {
        "colab": {
          "base_uri": "https://localhost:8080/"
        },
        "id": "osJX7EGzRNN9",
        "outputId": "2a1f7002-3f53-4b82-cc43-5cb6205ae6e5"
      },
      "outputs": [
        {
          "output_type": "stream",
          "name": "stdout",
          "text": [
            "Enter number of elements: 5\n",
            "Enter element 1: 12\n",
            "Enter element 2: 10.2\n",
            "Enter element 3: 5.6\n",
            "Enter element 4: 4.2\n",
            "Enter element 5: 11\n",
            "43.0\n"
          ]
        }
      ],
      "source": [
        "def inp_arr():\n",
        "  arr = []\n",
        "  n = int(input(\"Enter number of elements: \"))\n",
        "  for i in range(n):\n",
        "    num = float(input(f\"Enter element {i+1}: \"))\n",
        "    arr.append(num)\n",
        "  return arr\n",
        "num_arr = []\n",
        "num_arr = inp_arr()\n",
        "sum = 0\n",
        "for i in num_arr:\n",
        "  sum = sum+i\n",
        "print(sum)"
      ]
    },
    {
      "cell_type": "markdown",
      "source": [
        "2. Write a Python Program to find largest element in an array?"
      ],
      "metadata": {
        "id": "RmlD1UbRRedJ"
      }
    },
    {
      "cell_type": "code",
      "source": [
        "arr = inp_arr()\n",
        "print(f\"The largest element in the array is: {max(arr)}\")"
      ],
      "metadata": {
        "colab": {
          "base_uri": "https://localhost:8080/"
        },
        "id": "Db1UG42xRgqK",
        "outputId": "ac219c32-a85b-48ed-8dc2-7bf0c15ff5f7"
      },
      "execution_count": 2,
      "outputs": [
        {
          "output_type": "stream",
          "name": "stdout",
          "text": [
            "Enter number of elements: 5\n",
            "Enter element 1: 72\n",
            "Enter element 2: 52\n",
            "Enter element 3: 33\n",
            "Enter element 4: 25\n",
            "Enter element 5: 85\n",
            "The largest element in the array is: 85.0\n"
          ]
        }
      ]
    },
    {
      "cell_type": "markdown",
      "source": [
        "3. Write a Python Program for array rotation?"
      ],
      "metadata": {
        "id": "pHyqLoZ8Rg25"
      }
    },
    {
      "cell_type": "code",
      "source": [
        "def arr_rotate(a,d):\n",
        "    n=len(a)\n",
        "    a[:]=a[d:n]+a[0:d]\n",
        "    return a\n",
        "\n",
        "arr = [1,2,3,4,5]\n",
        "print(f\"Original Array: {arr}\")\n",
        "n = int(input(\"Enter number of rotations: \"))\n",
        "print(f\"Rotated list for {n} rotations is:\")\n",
        "print(arr_rotate(arr,n)) "
      ],
      "metadata": {
        "colab": {
          "base_uri": "https://localhost:8080/"
        },
        "id": "5R6fR-IuRi9i",
        "outputId": "8e63fdfa-8ca7-4c23-85a1-0fc9a0379cb5"
      },
      "execution_count": 3,
      "outputs": [
        {
          "output_type": "stream",
          "name": "stdout",
          "text": [
            "Original Array: [1, 2, 3, 4, 5]\n",
            "Enter number of rotations: 3\n",
            "Rotated list for 3 rotations is:\n",
            "[4, 5, 1, 2, 3]\n"
          ]
        }
      ]
    },
    {
      "cell_type": "markdown",
      "source": [
        "4. Write a Python Program to Split the array and add the first part to the end?"
      ],
      "metadata": {
        "id": "mIiB3hDRRjZJ"
      }
    },
    {
      "cell_type": "code",
      "source": [
        "def arr_split(arr, n, k):\n",
        "\tfor i in range(0, k):\n",
        "\t\tx = arr[0]\n",
        "\t\tfor j in range(0, n-1):\n",
        "\t\t\tarr[j] = arr[j + 1]\n",
        "\t\t\n",
        "\t\tarr[n-1] = x\t\t\n",
        "arr = [15, 40, 15, 16, 50, 36]\n",
        "n = len(arr)\n",
        "pos = 2\n",
        "arr_split(arr, n, pos)\n",
        "for i in range(0, n):\n",
        "\tprint(arr[i], end = ' ')"
      ],
      "metadata": {
        "id": "0eVp8hzvRlir",
        "colab": {
          "base_uri": "https://localhost:8080/"
        },
        "outputId": "97faf2d8-8ad3-478c-d1e6-19362001afc7"
      },
      "execution_count": 4,
      "outputs": [
        {
          "output_type": "stream",
          "name": "stdout",
          "text": [
            "15 16 50 36 15 40 "
          ]
        }
      ]
    },
    {
      "cell_type": "markdown",
      "source": [
        "5. Write a Python Program to check if given array is Monotonic?"
      ],
      "metadata": {
        "id": "lWWMhRczRlup"
      }
    },
    {
      "cell_type": "code",
      "source": [
        "def isMonotonic(A):\n",
        "   return (all(A[i] <= A[i + 1] for i in range(len(A) - 1)) or\n",
        "      all(A[i] >= A[i + 1] for i in range(len(A) - 1)))\n",
        "a = [1,2,3,4,7,8]\n",
        "print(isMonotonic(a))"
      ],
      "metadata": {
        "id": "OJU-zgaeRnxZ",
        "colab": {
          "base_uri": "https://localhost:8080/"
        },
        "outputId": "b7973841-d85b-49b4-8436-eb851ba2da46"
      },
      "execution_count": 6,
      "outputs": [
        {
          "output_type": "stream",
          "name": "stdout",
          "text": [
            "True\n"
          ]
        }
      ]
    }
  ]
}