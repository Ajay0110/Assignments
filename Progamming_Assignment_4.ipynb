{
  "nbformat": 4,
  "nbformat_minor": 0,
  "metadata": {
    "colab": {
      "provenance": [],
      "authorship_tag": "ABX9TyOCnvBkWx/2VENgY5c68/07",
      "include_colab_link": true
    },
    "kernelspec": {
      "name": "python3",
      "display_name": "Python 3"
    },
    "language_info": {
      "name": "python"
    }
  },
  "cells": [
    {
      "cell_type": "markdown",
      "metadata": {
        "id": "view-in-github",
        "colab_type": "text"
      },
      "source": [
        "<a href=\"https://colab.research.google.com/github/Ajay0110/Assignments/blob/main/Progamming_Assignment_4.ipynb\" target=\"_parent\"><img src=\"https://colab.research.google.com/assets/colab-badge.svg\" alt=\"Open In Colab\"/></a>"
      ]
    },
    {
      "cell_type": "markdown",
      "source": [
        "1. Write a Python Program to Find the Factorial of a Number?"
      ],
      "metadata": {
        "id": "WjDhwDmDHkWQ"
      }
    },
    {
      "cell_type": "code",
      "execution_count": 4,
      "metadata": {
        "colab": {
          "base_uri": "https://localhost:8080/"
        },
        "id": "Ei2CBgv2HdtX",
        "outputId": "7c38d8e0-9b2c-4e0d-c58a-7d760e8b5ae4"
      },
      "outputs": [
        {
          "output_type": "stream",
          "name": "stdout",
          "text": [
            "Enter a number to get factorial: 6\n",
            "Factorial of 6 is\n"
          ]
        },
        {
          "output_type": "execute_result",
          "data": {
            "text/plain": [
              "720"
            ]
          },
          "metadata": {},
          "execution_count": 4
        }
      ],
      "source": [
        "def factorial(n):  \n",
        "    return 1 if (n==1 or n==0) else n * factorial(n - 1);  \n",
        "  \n",
        "n = int(input(\"Enter a number to get factorial: \"))\n",
        "print(\"Factorial of\",n,\"is\")  \n",
        "factorial(n)"
      ]
    },
    {
      "cell_type": "markdown",
      "source": [
        "2. Write a Python Program to Display the multiplication Table?"
      ],
      "metadata": {
        "id": "7tiaG3PgHpCv"
      }
    },
    {
      "cell_type": "code",
      "source": [
        "def tables(num):\n",
        "  for i in range(1,11):\n",
        "    print(f\"{num} * {i} = {(num*i)}\")"
      ],
      "metadata": {
        "id": "-4zTa24QHr-3"
      },
      "execution_count": 6,
      "outputs": []
    },
    {
      "cell_type": "code",
      "source": [
        "n = int(input(\"Enter the number for which you require the table:\"))\n",
        "tables(n)"
      ],
      "metadata": {
        "colab": {
          "base_uri": "https://localhost:8080/"
        },
        "id": "aAidq30fJ56f",
        "outputId": "3d633385-6c60-4f3c-e39f-9f6218e82bcc"
      },
      "execution_count": 10,
      "outputs": [
        {
          "output_type": "stream",
          "name": "stdout",
          "text": [
            "Enter the number for which you require the table:5\n",
            "5 * 1 = 5\n",
            "5 * 2 = 10\n",
            "5 * 3 = 15\n",
            "5 * 4 = 20\n",
            "5 * 5 = 25\n",
            "5 * 6 = 30\n",
            "5 * 7 = 35\n",
            "5 * 8 = 40\n",
            "5 * 9 = 45\n",
            "5 * 10 = 50\n"
          ]
        }
      ]
    },
    {
      "cell_type": "markdown",
      "source": [
        "3. Write a Python Program to Print the Fibonacci sequence?"
      ],
      "metadata": {
        "id": "DCyINcV_HsUP"
      }
    },
    {
      "cell_type": "code",
      "source": [
        "def fibonacci(num):\n",
        "  if num < 0:\n",
        "    print(\"Please enter a number greater than 0\")\n",
        "  elif num == 0:\n",
        "    return 0\n",
        "  elif num==1 or num==2:\n",
        "    return 1\n",
        "  else:\n",
        "    return fibonacci(num-1) + fibonacci(num-2)"
      ],
      "metadata": {
        "id": "zVX6DfxtHvCX"
      },
      "execution_count": 21,
      "outputs": []
    },
    {
      "cell_type": "code",
      "source": [
        "print(fibonacci(9))"
      ],
      "metadata": {
        "colab": {
          "base_uri": "https://localhost:8080/"
        },
        "id": "OpXBHDp_LzLY",
        "outputId": "b10d10a8-1f2c-4d9f-da50-23b8e4b058d7"
      },
      "execution_count": 22,
      "outputs": [
        {
          "output_type": "stream",
          "name": "stdout",
          "text": [
            "34\n"
          ]
        }
      ]
    },
    {
      "cell_type": "markdown",
      "source": [
        "4. Write a Python Program to Check Armstrong Number?"
      ],
      "metadata": {
        "id": "gAXXKbEBHvw_"
      }
    },
    {
      "cell_type": "code",
      "source": [
        "def armstrong(num):\n",
        "  sum = 0\n",
        "  temp = num\n",
        "  while temp > 0:\n",
        "    digit = temp % 10\n",
        "    sum += digit ** 3\n",
        "    temp //= 10\n",
        "  if num == sum:\n",
        "    print(num,\"is an armstrong number\")\n",
        "  else:\n",
        "    print(num,\"is not an armstrong number\")"
      ],
      "metadata": {
        "id": "pLS8tWBOHx_o"
      },
      "execution_count": 26,
      "outputs": []
    },
    {
      "cell_type": "code",
      "source": [
        "armstrong(643)"
      ],
      "metadata": {
        "colab": {
          "base_uri": "https://localhost:8080/"
        },
        "id": "VRIeAeD5OxdZ",
        "outputId": "33dfac19-b052-41c2-c63e-36fd3759977d"
      },
      "execution_count": 29,
      "outputs": [
        {
          "output_type": "stream",
          "name": "stdout",
          "text": [
            "643 is not an armstrong number\n"
          ]
        }
      ]
    },
    {
      "cell_type": "code",
      "source": [
        "armstrong(371)"
      ],
      "metadata": {
        "colab": {
          "base_uri": "https://localhost:8080/"
        },
        "id": "NZfWBUHFPQFP",
        "outputId": "f95a7bce-d0ee-4add-c298-12f9fbdf3859"
      },
      "execution_count": 33,
      "outputs": [
        {
          "output_type": "stream",
          "name": "stdout",
          "text": [
            "371\n"
          ]
        }
      ]
    },
    {
      "cell_type": "markdown",
      "source": [
        "5. Write a Python Program to Find Armstrong Number in an Interval?"
      ],
      "metadata": {
        "id": "BM964HTdHycp"
      }
    },
    {
      "cell_type": "code",
      "source": [
        "def armstrong(num):\n",
        "  sum = 0\n",
        "  temp = num\n",
        "  while temp > 0:\n",
        "    digit = temp % 10\n",
        "    sum += digit ** 3\n",
        "    temp //= 10\n",
        "  if num == sum:\n",
        "    print(num)\n",
        "  else:\n",
        "    pass"
      ],
      "metadata": {
        "id": "ec4NZr_EH1PX"
      },
      "execution_count": 31,
      "outputs": []
    },
    {
      "cell_type": "code",
      "source": [
        "lower = int(input(\"Enter lower limit: \"))\n",
        "upper = int(input(\"Enter upper limit: \"))\n",
        "for i in range(lower,upper):\n",
        "  armstrong(i)"
      ],
      "metadata": {
        "colab": {
          "base_uri": "https://localhost:8080/"
        },
        "id": "6obSxqjIRilZ",
        "outputId": "2d531bce-4da4-48dc-f15a-60feccaeeef3"
      },
      "execution_count": 32,
      "outputs": [
        {
          "output_type": "stream",
          "name": "stdout",
          "text": [
            "Enter lower limit: 100\n",
            "Enter upper limit: 1000\n",
            "153\n",
            "370\n",
            "371\n",
            "407\n"
          ]
        }
      ]
    },
    {
      "cell_type": "markdown",
      "source": [
        "6. Write a Python Program to Find the Sum of Natural Numbers?"
      ],
      "metadata": {
        "id": "mH0q2Lm-H0wQ"
      }
    },
    {
      "cell_type": "code",
      "source": [
        "def natural(num):\n",
        "  sum=0\n",
        "  for i in range(1,num+1):\n",
        "    sum = sum+i\n",
        "  return sum"
      ],
      "metadata": {
        "id": "29ojqkZ2H4MA"
      },
      "execution_count": 40,
      "outputs": []
    },
    {
      "cell_type": "code",
      "source": [
        "n = int(input(\"Enter the number of natural numbers: \"))\n",
        "print(f\"Sum of {n} natural numbers: {natural(n)}\")"
      ],
      "metadata": {
        "colab": {
          "base_uri": "https://localhost:8080/"
        },
        "id": "RPl_5jPxT6Zh",
        "outputId": "6c048b76-6c1a-46a8-bec2-d31f3cb99ae9"
      },
      "execution_count": 42,
      "outputs": [
        {
          "output_type": "stream",
          "name": "stdout",
          "text": [
            "Enter the number of natural numbers: 50\n",
            "Sum of 50 natural numbers: 1275\n"
          ]
        }
      ]
    },
    {
      "cell_type": "code",
      "source": [],
      "metadata": {
        "id": "7jppZjlgUHhh"
      },
      "execution_count": null,
      "outputs": []
    }
  ]
}