{
  "nbformat": 4,
  "nbformat_minor": 0,
  "metadata": {
    "colab": {
      "provenance": [],
      "collapsed_sections": [],
      "authorship_tag": "ABX9TyPwdUwt9ss8lv0H1plIdIYq",
      "include_colab_link": true
    },
    "kernelspec": {
      "name": "python3",
      "display_name": "Python 3"
    },
    "language_info": {
      "name": "python"
    }
  },
  "cells": [
    {
      "cell_type": "markdown",
      "metadata": {
        "id": "view-in-github",
        "colab_type": "text"
      },
      "source": [
        "<a href=\"https://colab.research.google.com/github/Ajay0110/Assignments/blob/main/Programming_Assignment_8.ipynb\" target=\"_parent\"><img src=\"https://colab.research.google.com/assets/colab-badge.svg\" alt=\"Open In Colab\"/></a>"
      ]
    },
    {
      "cell_type": "markdown",
      "source": [
        "1. Write a Python Program to Add Two Matrices?"
      ],
      "metadata": {
        "id": "GwEtdWwerTkn"
      }
    },
    {
      "cell_type": "code",
      "execution_count": 3,
      "metadata": {
        "colab": {
          "base_uri": "https://localhost:8080/"
        },
        "id": "RcAV7uearMnN",
        "outputId": "4aa79eff-00f8-4583-ff8e-80d4db63027d"
      },
      "outputs": [
        {
          "output_type": "stream",
          "name": "stdout",
          "text": [
            "[6, 11, 4]\n",
            "[8, 10, 9]\n",
            "[11, 9, 16]\n"
          ]
        }
      ],
      "source": [
        "x = [[1,7,3],\n",
        "    [4 ,3,6],\n",
        "    [7 ,6,9]]\n",
        "y = [[5,4,1],\n",
        "    [4,7,3],\n",
        "    [4,3,7]]\n",
        "\n",
        "sum = [[x[i][j] + y[i][j]  for j in range(len(x[0]))] for i in range(len(x))]\n",
        "\n",
        "for i in sum:\n",
        "   print(i)"
      ]
    },
    {
      "cell_type": "markdown",
      "source": [
        "2. Write a Python Program to Multiply Two Matrices?"
      ],
      "metadata": {
        "id": "oo3kT8VqrT3-"
      }
    },
    {
      "cell_type": "code",
      "source": [
        "# 3X3 matrix\n",
        "X = [[12,7,3],\n",
        "    [4 ,5,6],\n",
        "    [7 ,8,9]]\n",
        "# 3x4 matrix\n",
        "Y = [[5,8,1,2],\n",
        "    [6,7,3,0],\n",
        "    [4,5,9,1]]\n",
        "# result is 3x4\n",
        "sol = [[0,0,0,0],\n",
        "         [0,0,0,0],\n",
        "         [0,0,0,0]]\n",
        "\n",
        "# iterate through rows of X\n",
        "for i in range(len(X)):\n",
        "   # iterate through columns of Y\n",
        "   for j in range(len(Y[0])):\n",
        "       # iterate through rows of Y\n",
        "       for k in range(len(Y)):\n",
        "           sol[i][j] += X[i][k] * Y[k][j]\n",
        "\n",
        "for i in sol:\n",
        "   print(i)"
      ],
      "metadata": {
        "colab": {
          "base_uri": "https://localhost:8080/"
        },
        "id": "BcR1fcporULO",
        "outputId": "827693c6-10cc-41a4-cd21-41253f1e9a94"
      },
      "execution_count": 5,
      "outputs": [
        {
          "output_type": "stream",
          "name": "stdout",
          "text": [
            "[114, 160, 60, 27]\n",
            "[74, 97, 73, 14]\n",
            "[119, 157, 112, 23]\n"
          ]
        }
      ]
    },
    {
      "cell_type": "markdown",
      "source": [
        "3. Write a Python Program to Transpose a Matrix?"
      ],
      "metadata": {
        "id": "VZXUJ7oLraMu"
      }
    },
    {
      "cell_type": "code",
      "source": [
        "import numpy as np\n",
        "X = [[12,7,3],\n",
        "    [4 ,5,6],\n",
        "    [7 ,8,9]]\n",
        "print(np.transpose(X))"
      ],
      "metadata": {
        "colab": {
          "base_uri": "https://localhost:8080/"
        },
        "id": "qJLfC155rcR-",
        "outputId": "9e2ea39c-d21e-4282-8ba2-f31a5e95f45c"
      },
      "execution_count": 11,
      "outputs": [
        {
          "output_type": "stream",
          "name": "stdout",
          "text": [
            "[[12  4  7]\n",
            " [ 7  5  8]\n",
            " [ 3  6  9]]\n"
          ]
        }
      ]
    },
    {
      "cell_type": "markdown",
      "source": [
        "4. Write a Python Program to Sort Words in Alphabetic Order?"
      ],
      "metadata": {
        "id": "05sesNBrra5W"
      }
    },
    {
      "cell_type": "code",
      "source": [
        "string_1 = str(input(\"Enter a string: \"))\n",
        "words = string_1.split()\n",
        "words.sort()\n",
        "for word in words:\n",
        "   print(word)"
      ],
      "metadata": {
        "colab": {
          "base_uri": "https://localhost:8080/"
        },
        "id": "lczEjnnwrjw9",
        "outputId": "7d15deb2-735e-40c2-de13-b2dafc02bf13"
      },
      "execution_count": 14,
      "outputs": [
        {
          "output_type": "stream",
          "name": "stdout",
          "text": [
            "Enter a string: Dragon Ball Super is the best manga\n",
            "Ball\n",
            "Dragon\n",
            "Super\n",
            "best\n",
            "is\n",
            "manga\n",
            "the\n"
          ]
        }
      ]
    },
    {
      "cell_type": "markdown",
      "source": [
        "5. Write a Python Program to Remove Punctuation From a String?"
      ],
      "metadata": {
        "id": "G53NZ_PPrg2l"
      }
    },
    {
      "cell_type": "code",
      "source": [
        "punctuations = '''!()-[]{};:'\"\\,<>./?@#$%^&*_~'''\n",
        "string = \"Alas! India lost the match & disqualified from T20!!!!!!!.\"\n",
        "str2 = \"\"\n",
        "for i in string:\n",
        "   if i not in punctuations:\n",
        "       str2 = str2 + i\n",
        "print(str2)"
      ],
      "metadata": {
        "colab": {
          "base_uri": "https://localhost:8080/"
        },
        "id": "HPEg3UYyrkOG",
        "outputId": "9a0aa0d1-bcdc-42d4-e68e-c2636560856a"
      },
      "execution_count": 2,
      "outputs": [
        {
          "output_type": "stream",
          "name": "stdout",
          "text": [
            "Alas India lost the match  disqualified from T20\n"
          ]
        }
      ]
    },
    {
      "cell_type": "code",
      "source": [],
      "metadata": {
        "id": "5dhIXuvEpHHx"
      },
      "execution_count": null,
      "outputs": []
    }
  ]
}