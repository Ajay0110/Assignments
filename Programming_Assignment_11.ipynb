{
  "nbformat": 4,
  "nbformat_minor": 0,
  "metadata": {
    "colab": {
      "provenance": [],
      "collapsed_sections": [],
      "authorship_tag": "ABX9TyNcFawCcO3u5UruGsndNomB",
      "include_colab_link": true
    },
    "kernelspec": {
      "name": "python3",
      "display_name": "Python 3"
    },
    "language_info": {
      "name": "python"
    }
  },
  "cells": [
    {
      "cell_type": "markdown",
      "metadata": {
        "id": "view-in-github",
        "colab_type": "text"
      },
      "source": [
        "<a href=\"https://colab.research.google.com/github/Ajay0110/Assignments/blob/main/Programming_Assignment_11.ipynb\" target=\"_parent\"><img src=\"https://colab.research.google.com/assets/colab-badge.svg\" alt=\"Open In Colab\"/></a>"
      ]
    },
    {
      "cell_type": "markdown",
      "source": [
        "1. Write a Python program to find words which are greater than given length k?\n",
        "2. Write a Python program for removing i-th character from a string?\n",
        "3. Write a Python program to split and join a string?\n",
        "4. Write a Python to check if a given string is binary string or not?\n",
        "5. Write a Python program to find uncommon words from two Strings?\n",
        "6. Write a Python to find all duplicate characters in string?\n",
        "7. Write a Python Program to check if a string contains any special character?"
      ],
      "metadata": {
        "id": "4AAPC6MIHE70"
      }
    },
    {
      "cell_type": "code",
      "execution_count": null,
      "metadata": {
        "id": "u_DD32kLGx_D"
      },
      "outputs": [],
      "source": [
        "import logging\n",
        "logging.basicConfig(filename = \"Test.log\", level = logging.INFO, format = '%(asctime)s %(levelname)s %(message)s')\n",
        "def find_words(sentence,k):\n",
        "  logging.info(\"Executing find_words function\")\n",
        "  try:\n",
        "    for i in sentence.split(\" \"):\n",
        "      if len(i) > k:\n",
        "        print(i)\n",
        "  except Exception as e:\n",
        "    logging.error(\"Encountered an error\")\n",
        "    logging.exception(\"Exception occurred is \"+ str(e))"
      ]
    },
    {
      "cell_type": "code",
      "source": [
        "sentence = \"Practising data science everyday to improve my skillset to overcome problems\""
      ],
      "metadata": {
        "id": "hu3t7AsLHsR7"
      },
      "execution_count": null,
      "outputs": []
    },
    {
      "cell_type": "code",
      "source": [
        "logging.info(\"Getting the string length input from user\")\n",
        "try:\n",
        "  strlen = int(input(\"Enter the string length: \"))\n",
        "  logging.info(\"Calling find_words function\")\n",
        "  find_words(sentence,strlen)\n",
        "except Exception as e:\n",
        "  logging.error(\"Encountered an error\")\n",
        "  logging.exception(\"Exception occurred is \"+ str(e))"
      ],
      "metadata": {
        "colab": {
          "base_uri": "https://localhost:8080/"
        },
        "id": "R_8_pQhdHqQ0",
        "outputId": "abe8cc3c-2f30-4c09-c48c-0011fc1c1897"
      },
      "execution_count": null,
      "outputs": [
        {
          "output_type": "stream",
          "name": "stdout",
          "text": [
            "Enter the string length: 5\n",
            "Practising\n",
            "science\n",
            "everyday\n",
            "improve\n",
            "skillset\n",
            "overcome\n",
            "problems\n"
          ]
        }
      ]
    },
    {
      "cell_type": "markdown",
      "source": [
        "Write a Python program for removing i-th character from a string?\n"
      ],
      "metadata": {
        "id": "G3X3JxemKjuV"
      }
    },
    {
      "cell_type": "code",
      "source": [
        "def remove_char(i,s):\n",
        "  logging.info(\"Executing remove_car function\")\n",
        "  try:\n",
        "    return s[0:i-1] + s[i:]\n",
        "  except Exception as e:\n",
        "    logging.error(\"Encountered an error\")\n",
        "    logging.exception(\"Exception occurred is \"+ str(e))"
      ],
      "metadata": {
        "id": "h4mU-3rUKobc"
      },
      "execution_count": null,
      "outputs": []
    },
    {
      "cell_type": "code",
      "source": [
        "logging.info(\"Setting the input string\")\n",
        "string = \"Python is a programming language\"\n",
        "print(f\"Before removing the character\\n{string}\")\n",
        "logging.info(\"Getting the index as input from user\")\n",
        "n = int(input(\"Enter an integer: \"))\n",
        "logging.info(\"Calling remove_char function\")\n",
        "print(remove_char(n,string))"
      ],
      "metadata": {
        "colab": {
          "base_uri": "https://localhost:8080/"
        },
        "id": "mDqutaMmQgFv",
        "outputId": "a3779b14-573e-46d7-bc7d-9a2525fa67f6"
      },
      "execution_count": null,
      "outputs": [
        {
          "output_type": "stream",
          "name": "stdout",
          "text": [
            "Before removing the character\n",
            "Python is a programming language\n",
            "Enter an integer: 5\n",
            "Pythn is a programming language\n"
          ]
        }
      ]
    },
    {
      "cell_type": "markdown",
      "source": [
        "Write a Python program to split and join a string?"
      ],
      "metadata": {
        "id": "z6RsVvPgKjpj"
      }
    },
    {
      "cell_type": "code",
      "source": [
        "def splitting(s, delimiter):\n",
        "  return s.split(delimiter)\n",
        "def strcat(s,s1):\n",
        "  return s+' '+s1"
      ],
      "metadata": {
        "id": "X9PZpeiwIarz"
      },
      "execution_count": null,
      "outputs": []
    },
    {
      "cell_type": "code",
      "source": [
        "s1 = \"Apple, Mango, Grapes, Pineapple, Orange, Kiwi, Dragon Fruit\"\n",
        "s2 = \"Above is a string containing fruit names\""
      ],
      "metadata": {
        "id": "z2dKG8WibZXw"
      },
      "execution_count": null,
      "outputs": []
    },
    {
      "cell_type": "code",
      "source": [
        "# Split operation\n",
        "l = []\n",
        "l = splitting(s1, ', ')\n",
        "print(l)"
      ],
      "metadata": {
        "colab": {
          "base_uri": "https://localhost:8080/"
        },
        "id": "-F0UsAsfb59R",
        "outputId": "85080946-eefe-4b29-8a37-cc81e30f530d"
      },
      "execution_count": null,
      "outputs": [
        {
          "output_type": "stream",
          "name": "stdout",
          "text": [
            "['Apple', 'Mango', 'Grapes', 'Pineapple', 'Orange', 'Kiwi', 'Dragon Fruit']\n"
          ]
        }
      ]
    },
    {
      "cell_type": "code",
      "source": [
        "l1 = splitting(s2, ' ')\n",
        "print(l1)"
      ],
      "metadata": {
        "colab": {
          "base_uri": "https://localhost:8080/"
        },
        "id": "3ogbPdA7cQtI",
        "outputId": "f99a8a00-af51-4eef-e257-12f8b19d545d"
      },
      "execution_count": null,
      "outputs": [
        {
          "output_type": "stream",
          "name": "stdout",
          "text": [
            "['Above', 'is', 'a', 'string', 'containing', 'fruit', 'names']\n"
          ]
        }
      ]
    },
    {
      "cell_type": "code",
      "source": [
        "# Joining the string\n",
        "print(strcat(s1,s2))"
      ],
      "metadata": {
        "colab": {
          "base_uri": "https://localhost:8080/"
        },
        "id": "jqlXytpeccpQ",
        "outputId": "42066d8c-34d3-421f-c4a9-9bd24b15f286"
      },
      "execution_count": null,
      "outputs": [
        {
          "output_type": "stream",
          "name": "stdout",
          "text": [
            "Apple, Mango, Grapes, Pineapple, Orange, Kiwi, Dragon Fruit Above is a string containing fruit names\n"
          ]
        }
      ]
    },
    {
      "cell_type": "markdown",
      "source": [
        "Write a Python to check if a given string is binary string or not?"
      ],
      "metadata": {
        "id": "dURdP5KLKpRD"
      }
    },
    {
      "cell_type": "code",
      "source": [
        "def binary(s):\n",
        "  f=1\n",
        "  for i in s:\n",
        "    if i == '1' or i == \"0\":\n",
        "      continue\n",
        "    else:\n",
        "      f=0\n",
        "      break\n",
        "  if f == 1:\n",
        "    print(f\"{s} is a binary number\")\n",
        "  else:\n",
        "    print(f\"{s} is not a binary number\")"
      ],
      "metadata": {
        "id": "i60jMmOYKo_D"
      },
      "execution_count": null,
      "outputs": []
    },
    {
      "cell_type": "code",
      "source": [
        "binary('1010101010')"
      ],
      "metadata": {
        "colab": {
          "base_uri": "https://localhost:8080/"
        },
        "id": "ZcBGM13ui0pK",
        "outputId": "f5b5151a-1782-4e1c-dd41-7d5e7ca3ab79"
      },
      "execution_count": null,
      "outputs": [
        {
          "output_type": "stream",
          "name": "stdout",
          "text": [
            "1010101010 is a binary number\n"
          ]
        }
      ]
    },
    {
      "cell_type": "code",
      "source": [
        "binary('asdasd')"
      ],
      "metadata": {
        "colab": {
          "base_uri": "https://localhost:8080/"
        },
        "id": "tUpWwFeyi9Dp",
        "outputId": "eb1e5b5e-3a2c-4017-934f-39a8a96e0a53"
      },
      "execution_count": null,
      "outputs": [
        {
          "output_type": "stream",
          "name": "stdout",
          "text": [
            "asdasd is not a binary number\n"
          ]
        }
      ]
    },
    {
      "cell_type": "markdown",
      "source": [
        "Write a Python program to find uncommon words from two Strings?\n"
      ],
      "metadata": {
        "id": "GpsFEQoNaf1w"
      }
    },
    {
      "cell_type": "code",
      "source": [
        "def uncommon(l1, l2):\n",
        "  l3 = []\n",
        "  for i in l1:\n",
        "    if i not in l2:\n",
        "      l3.append(i)\n",
        "  for i in l2:\n",
        "    if i not in l1:\n",
        "      l3.append(i)\n",
        "  return l3"
      ],
      "metadata": {
        "id": "gUIvkoZNstxt"
      },
      "execution_count": 1,
      "outputs": []
    },
    {
      "cell_type": "code",
      "source": [
        "s1 = \"This is the first string\"\n",
        "s2 = \"This is the second string\"\n",
        "l = []\n",
        "l = uncommon(s1.split(\" \"), s2.split(\" \"))\n",
        "print(f\"The uncommon words between string 1 and string 2 are {l}\")"
      ],
      "metadata": {
        "colab": {
          "base_uri": "https://localhost:8080/"
        },
        "id": "L5HuAXG2ak4X",
        "outputId": "ef1a8805-9f3a-4a79-a460-359dcbc3bf77"
      },
      "execution_count": 3,
      "outputs": [
        {
          "output_type": "stream",
          "name": "stdout",
          "text": [
            "The uncommon words between string 1 and string 2 are ['first', 'second']\n"
          ]
        }
      ]
    },
    {
      "cell_type": "markdown",
      "source": [
        "Write a Python to find all duplicate characters in string?\n"
      ],
      "metadata": {
        "id": "Ke1DkDLvahk4"
      }
    },
    {
      "cell_type": "code",
      "source": [
        "def duplicate(s1):\n",
        "  ls = []\n",
        "  for i in s1:\n",
        "    ls.append(i)\n",
        "  ls2 = list(set(ls))\n",
        "  print(f\"Repeated characters of the string: \\n{s1}\")\n",
        "  for i in ls2:\n",
        "    if ls.count(i) > 1:\n",
        "      print(f\"{i}\")"
      ],
      "metadata": {
        "id": "LR62yupZakjv"
      },
      "execution_count": 7,
      "outputs": []
    },
    {
      "cell_type": "code",
      "source": [
        "duplicate(s1)"
      ],
      "metadata": {
        "colab": {
          "base_uri": "https://localhost:8080/"
        },
        "id": "GOj414pUjDsG",
        "outputId": "65a7c39b-df59-4234-bfa5-46b4479d2330"
      },
      "execution_count": 8,
      "outputs": [
        {
          "output_type": "stream",
          "name": "stdout",
          "text": [
            "Repeated characters of the string: \n",
            "This is the first string\n",
            " \n",
            "i\n",
            "r\n",
            "h\n",
            "t\n",
            "s\n"
          ]
        }
      ]
    },
    {
      "cell_type": "markdown",
      "source": [
        "Write a Python Program to check if a string contains any special character?"
      ],
      "metadata": {
        "id": "yH0VxDsgai63"
      }
    },
    {
      "cell_type": "code",
      "source": [
        "def check_special(s):\n",
        "  f=0\n",
        "  special_chars = '[@_!#$%^&*()<>?/\\|}{~:]'\n",
        "  for i in s:\n",
        "    if i in special_chars:\n",
        "      print(i)\n",
        "      f=1\n",
        "  if f == 0:\n",
        "    print(f\"No special characters were found in the string: {s}\")\n",
        "  else:\n",
        "    print(f\"Above are the special characters found in the string: {s}\")"
      ],
      "metadata": {
        "id": "1M0wzaJxaj9Q"
      },
      "execution_count": 28,
      "outputs": []
    },
    {
      "cell_type": "code",
      "source": [
        "check_special(s1)"
      ],
      "metadata": {
        "colab": {
          "base_uri": "https://localhost:8080/"
        },
        "id": "q-zvy6Zmlgq3",
        "outputId": "506e51ec-62e1-4494-fa69-8d25b3c46c38"
      },
      "execution_count": 29,
      "outputs": [
        {
          "output_type": "stream",
          "name": "stdout",
          "text": [
            "No special characters were found in the string: This is the first string\n"
          ]
        }
      ]
    },
    {
      "cell_type": "code",
      "source": [
        "s3 = 'Some special !! chars for #@%^ testing ::'\n",
        "check_special(s3)"
      ],
      "metadata": {
        "colab": {
          "base_uri": "https://localhost:8080/"
        },
        "id": "sWSVkIqFli0u",
        "outputId": "80aef257-f38a-49f2-dd2c-3faa5d6a65f4"
      },
      "execution_count": 30,
      "outputs": [
        {
          "output_type": "stream",
          "name": "stdout",
          "text": [
            "!\n",
            "!\n",
            "#\n",
            "@\n",
            "%\n",
            "^\n",
            ":\n",
            ":\n",
            "Above are the special characters found in the string: Some special !! chars for #@%^ testing ::\n"
          ]
        }
      ]
    },
    {
      "cell_type": "code",
      "source": [],
      "metadata": {
        "id": "iBhmuT8Bm80t"
      },
      "execution_count": null,
      "outputs": []
    }
  ]
}