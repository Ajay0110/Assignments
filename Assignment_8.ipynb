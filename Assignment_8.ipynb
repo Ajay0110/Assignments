{
  "nbformat": 4,
  "nbformat_minor": 0,
  "metadata": {
    "colab": {
      "provenance": [],
      "collapsed_sections": [],
      "authorship_tag": "ABX9TyOUPAQ875ZoLZNcC/zL0M84",
      "include_colab_link": true
    },
    "kernelspec": {
      "name": "python3",
      "display_name": "Python 3"
    },
    "language_info": {
      "name": "python"
    }
  },
  "cells": [
    {
      "cell_type": "markdown",
      "metadata": {
        "id": "view-in-github",
        "colab_type": "text"
      },
      "source": [
        "<a href=\"https://colab.research.google.com/github/Ajay0110/Assignments/blob/main/Assignment_8.ipynb\" target=\"_parent\"><img src=\"https://colab.research.google.com/assets/colab-badge.svg\" alt=\"Open In Colab\"/></a>"
      ]
    },
    {
      "cell_type": "markdown",
      "source": [
        "1. Is the Python Standard Library included with PyInputPlus?\n",
        "\n"
      ],
      "metadata": {
        "id": "bqhmP9hFf2wW"
      }
    },
    {
      "cell_type": "markdown",
      "source": [
        "No, PyInputPlus is not a part of Python Standard Library, it needs to be installed via the command !pip install PyInputPlus"
      ],
      "metadata": {
        "id": "eob0eRLzg0Ut"
      }
    },
    {
      "cell_type": "markdown",
      "source": [
        "2. Why is PyInputPlus commonly imported with import pyinputplus as pypi?"
      ],
      "metadata": {
        "id": "XPpjJObNf4fG"
      }
    },
    {
      "cell_type": "markdown",
      "source": [
        "It is done so that we can use a shorter alias and the common name is for anyone to understand our code easily."
      ],
      "metadata": {
        "id": "Ud8Zy8sOgz3t"
      }
    },
    {
      "cell_type": "markdown",
      "source": [
        "3. How do you distinguish between inputInt() and inputFloat()?"
      ],
      "metadata": {
        "id": "DCOynCb2f73G"
      }
    },
    {
      "cell_type": "markdown",
      "source": [
        "inputInt() function Accepts an integer value. This also takes additional parameters min, max, greaterThan and lessThan for bounds. And it always returns an int."
      ],
      "metadata": {
        "id": "_nsy0lNFh1T9"
      }
    },
    {
      "cell_type": "markdown",
      "source": [
        "4. Using PyInputPlus, how do you ensure that the user enters a whole number between 0 and 99?"
      ],
      "metadata": {
        "id": "eTSbupT8f-aF"
      }
    },
    {
      "cell_type": "markdown",
      "source": [
        "Using min and max parameters in inputInt() we can set the range from 0 to 100 i.e, min=0 and max=100.\n",
        "\n",
        "import pyinputplus as pyip\n",
        "\n",
        "num = pyip.inputInt(prompt='Enter a number: ', min=0, max=100)\n",
        "\n",
        "print(num)"
      ],
      "metadata": {
        "id": "Gy7qEo59iFit"
      }
    },
    {
      "cell_type": "markdown",
      "source": [
        "5. What is transferred to the keyword arguments allowRegexes and blockRegexes?"
      ],
      "metadata": {
        "id": "9MNm7XoxgBhe"
      }
    },
    {
      "cell_type": "markdown",
      "source": [
        "The allowRegexes and blockRegexes keyword arguments take a list of regular expression strings to determine what the PyInputPlus function will accept or reject as valid input."
      ],
      "metadata": {
        "id": "IEEGcuM7iCxc"
      }
    },
    {
      "cell_type": "markdown",
      "source": [
        "6. If a blank input is entered three times, what does inputStr(limit=3) do?"
      ],
      "metadata": {
        "id": "kWfeYOZggGHV"
      }
    },
    {
      "cell_type": "markdown",
      "source": [
        "The statement inputStr(limit=3) will throw two exceptions ValidationException and RetryLimitException. The first exception is thrown because blank values are not allowed by inputStr() function by default. it we want to consider blank values as valid input, we have to set blank=True."
      ],
      "metadata": {
        "id": "U1b-ekw56BWd"
      }
    },
    {
      "cell_type": "markdown",
      "source": [
        "7. If blank input is entered three times, what does inputStr(limit=3, default=&#39;hello&#39;) do?"
      ],
      "metadata": {
        "id": "ZqDQJ4eDgJWd"
      }
    },
    {
      "cell_type": "markdown",
      "source": [
        "Since the default parameter is set to hello. after blank input is entered three times instead of raising RetryLimitException exception. the function will return hello as response to the calling function"
      ],
      "metadata": {
        "id": "WMfyxfgk6GIF"
      }
    }
  ]
}