{
  "nbformat": 4,
  "nbformat_minor": 0,
  "metadata": {
    "colab": {
      "provenance": [],
      "collapsed_sections": [],
      "authorship_tag": "ABX9TyMdAIvpMfWcU7MG+GX+9ngh",
      "include_colab_link": true
    },
    "kernelspec": {
      "name": "python3",
      "display_name": "Python 3"
    },
    "language_info": {
      "name": "python"
    }
  },
  "cells": [
    {
      "cell_type": "markdown",
      "metadata": {
        "id": "view-in-github",
        "colab_type": "text"
      },
      "source": [
        "<a href=\"https://colab.research.google.com/github/Ajay0110/Assignments/blob/main/Programming_Assignment_1.ipynb\" target=\"_parent\"><img src=\"https://colab.research.google.com/assets/colab-badge.svg\" alt=\"Open In Colab\"/></a>"
      ]
    },
    {
      "cell_type": "markdown",
      "source": [
        "1. Write a Python program to print &quot;Hello Python&quot;?"
      ],
      "metadata": {
        "id": "06hFQfAL7aAH"
      }
    },
    {
      "cell_type": "code",
      "execution_count": 1,
      "metadata": {
        "colab": {
          "base_uri": "https://localhost:8080/"
        },
        "id": "wN1Oh5Ga7Ttp",
        "outputId": "78012d31-bc3b-46ad-8203-886eec48c82d"
      },
      "outputs": [
        {
          "output_type": "stream",
          "name": "stdout",
          "text": [
            "Hello Python\n"
          ]
        }
      ],
      "source": [
        "# Creating and assigning a string to the variable\n",
        "hello  = \"Hello Python\"\n",
        "# Printing the variable\n",
        "print(hello)"
      ]
    },
    {
      "cell_type": "markdown",
      "source": [
        "2. Write a Python program to do arithmetical operations addition and division.?"
      ],
      "metadata": {
        "id": "SW-ijDj_7sem"
      }
    },
    {
      "cell_type": "code",
      "source": [
        "# Input for variable a\n",
        "a = int(input(\"Enter the value for a: \"))\n",
        "# Input for variable b\n",
        "b = int(input(\"Enter the value for b: \"))\n",
        "# Printing the sum and division\n",
        "print(f\"Sum of {a} and {b} is {a+b}\")\n",
        "print(f\"Division of {a} and {b} is {a/b}\")"
      ],
      "metadata": {
        "colab": {
          "base_uri": "https://localhost:8080/"
        },
        "id": "WXQy2bdY7pKu",
        "outputId": "82022027-e86c-42d5-fed9-6062bf37f0f5"
      },
      "execution_count": 9,
      "outputs": [
        {
          "output_type": "stream",
          "name": "stdout",
          "text": [
            "Enter the value for a: 1\n",
            "Enter the value for b: 2\n",
            "Sum of 1 and 2 is 3\n",
            "Division of 1 and 2 is 0.5\n"
          ]
        }
      ]
    },
    {
      "cell_type": "markdown",
      "source": [
        "3. Write a Python program to find the area of a triangle?"
      ],
      "metadata": {
        "id": "ZG8GRIgA9Xfe"
      }
    },
    {
      "cell_type": "code",
      "source": [
        "# Get inputs for base and height\n",
        "base = float(input(\"Enter the base of the triangle: \"))\n",
        "height = float(input(\"Enter the height of the triangle: \"))\n",
        "# Printing area of triangle\n",
        "print(f\"Area of triangle for base as {base} and height as {height} is {0.5*(base*height)}\")"
      ],
      "metadata": {
        "colab": {
          "base_uri": "https://localhost:8080/"
        },
        "id": "-LuFEx4K8JFO",
        "outputId": "89fb6cb9-6d5d-4af6-e359-3a5616e54ba7"
      },
      "execution_count": 10,
      "outputs": [
        {
          "output_type": "stream",
          "name": "stdout",
          "text": [
            "Enter the base of the triangle: 12\n",
            "Enter the height of the triangle: 10.5\n",
            "Area of triangle for base as 12.0 and height as 10.5 is 63.0\n"
          ]
        }
      ]
    },
    {
      "cell_type": "markdown",
      "source": [
        "4. Write a Python program to swap two variables?"
      ],
      "metadata": {
        "id": "s392j34J-rxo"
      }
    },
    {
      "cell_type": "code",
      "source": [
        "# Swap 1\n",
        "a = 5\n",
        "b = 7\n",
        "print(f\"Before swapping: a is {a} and b is {b}\")\n",
        "print(f\"Swap by printing: a is {b} and b is {a}\")"
      ],
      "metadata": {
        "colab": {
          "base_uri": "https://localhost:8080/"
        },
        "id": "MeuswsWm-WWG",
        "outputId": "9055f182-f81d-48b7-f975-b4f8db8c6d35"
      },
      "execution_count": 18,
      "outputs": [
        {
          "output_type": "stream",
          "name": "stdout",
          "text": [
            "Before swapping: a is 5 and b is 7\n",
            "Swap by printing: a is 7 and b is 5\n"
          ]
        }
      ]
    },
    {
      "cell_type": "code",
      "source": [
        "# Swap 2\n",
        "print(f\"Before swapping: a is {a} and b is {b}\")\n",
        "temp = a\n",
        "a = b\n",
        "b = temp\n",
        "print(f\"After swap using three variables: a is {a} and b is {b}\")"
      ],
      "metadata": {
        "colab": {
          "base_uri": "https://localhost:8080/"
        },
        "id": "6cvCyH9K_Ho3",
        "outputId": "c98942c1-75cf-41dd-c725-f1618da9e540"
      },
      "execution_count": 19,
      "outputs": [
        {
          "output_type": "stream",
          "name": "stdout",
          "text": [
            "Before swapping: a is 5 and b is 7\n",
            "After swap using three variables: a is 7 and b is 5\n"
          ]
        }
      ]
    },
    {
      "cell_type": "code",
      "source": [
        "# Swap 3\n",
        "a=4\n",
        "b=8\n",
        "print(f\"Before swapping: a is {a} and b is {b}\")\n",
        "a = a+b\n",
        "b = a-b\n",
        "a = a-b\n",
        "print(f\"Swapping without third varible: a is {a} and b is {b}\")"
      ],
      "metadata": {
        "colab": {
          "base_uri": "https://localhost:8080/"
        },
        "id": "rqx5Y2EU_z5P",
        "outputId": "9dcc76e7-c908-4c56-b447-519dedae5069"
      },
      "execution_count": 20,
      "outputs": [
        {
          "output_type": "stream",
          "name": "stdout",
          "text": [
            "Before swapping: a is 4 and b is 8\n",
            "Swapping without third varible: a is 8 and b is 4\n"
          ]
        }
      ]
    },
    {
      "cell_type": "markdown",
      "source": [
        "5. Write a Python program to generate a random number?"
      ],
      "metadata": {
        "id": "010PGNLlBY8X"
      }
    },
    {
      "cell_type": "code",
      "source": [
        "# Importing random module\n",
        "import random\n",
        "num = random.random()\n",
        "print(num)"
      ],
      "metadata": {
        "colab": {
          "base_uri": "https://localhost:8080/"
        },
        "id": "gU4TutkaAVUf",
        "outputId": "b764c727-dcc3-416f-de3d-f2fcb2bcba0e"
      },
      "execution_count": 23,
      "outputs": [
        {
          "output_type": "stream",
          "name": "stdout",
          "text": [
            "0.8303757573045104\n"
          ]
        }
      ]
    },
    {
      "cell_type": "code",
      "source": [],
      "metadata": {
        "id": "sDblIdlOB9ao"
      },
      "execution_count": null,
      "outputs": []
    }
  ]
}